{
 "cells": [
  {
   "cell_type": "markdown",
   "metadata": {
    "cell_id": "6de1945d830d4e7eb91887d48c486cc6",
    "deepnote_cell_type": "text-cell-p",
    "formattedRanges": []
   },
   "source": [
    "**Giovano Panatta**"
   ]
  },
  {
   "cell_type": "markdown",
   "metadata": {
    "cell_id": "f5f08e2f50e24a5e9cd4e7cfbe92e2f2",
    "deepnote_cell_type": "text-cell-p",
    "formattedRanges": []
   },
   "source": [
    "**Qualidade de Dados**"
   ]
  },
  {
   "cell_type": "markdown",
   "metadata": {
    "cell_id": "b35b4a80489e41d2a2650f4764b692ce",
    "deepnote_cell_type": "text-cell-p",
    "formattedRanges": [
     {
      "fromCodePoint": 0,
      "marks": {
       "bold": true
      },
      "toCodePoint": 66,
      "type": "marks"
     }
    ]
   },
   "source": [
    "**Introdução:** Dimensão de Qualidade de Dados"
   ]
  },
  {
   "cell_type": "markdown",
   "metadata": {
    "cell_id": "6e1210659b2842ab9f3d587e7eea1869",
    "deepnote_cell_type": "text-cell-p",
    "formattedRanges": [
     {
      "fromCodePoint": 0,
      "marks": {
       "bold": true
      },
      "toCodePoint": 10,
      "type": "marks"
     },
     {
      "fromCodePoint": 64,
      "marks": {
       "bold": true
      },
      "toCodePoint": 76,
      "type": "marks"
     },
     {
      "fromCodePoint": 118,
      "marks": {
       "bold": true
      },
      "toCodePoint": 131,
      "type": "marks"
     },
     {
      "fromCodePoint": 178,
      "marks": {
       "bold": true
      },
      "toCodePoint": 188,
      "type": "marks"
     },
     {
      "fromCodePoint": 222,
      "marks": {
       "bold": true
      },
      "toCodePoint": 237,
      "type": "marks"
     },
     {
      "fromCodePoint": 275,
      "marks": {
       "bold": true
      },
      "toCodePoint": 291,
      "type": "marks"
     },
     {
      "fromCodePoint": 343,
      "marks": {
       "bold": true
      },
      "toCodePoint": 354,
      "type": "marks"
     },
     {
      "fromCodePoint": 401,
      "marks": {
       "bold": true
      },
      "toCodePoint": 421,
      "type": "marks"
     },
     {
      "fromCodePoint": 472,
      "marks": {
       "bold": true
      },
      "toCodePoint": 492,
      "type": "marks"
     },
     {
      "fromCodePoint": 552,
      "marks": {
       "bold": true
      },
      "toCodePoint": 566,
      "type": "marks"
     }
    ]
   },
   "source": [
    "- **Precisão:** Grau de conformidade dos dados com os valores reais.\n",
    "- **Integridade:** Completeness and wholeness of the data.\n",
    "- **Consistência:** Uniformidade dos dados em diferentes fontes.\n",
    "- **Atualidade:** Relevância dos dados no tempo.\n",
    "- **Confiabilidade:** Confiabilidade das fontes de dados.\n",
    "- **Disponibilidade:** Facilidade de acesso aos dados quando necessário.\n",
    "- **Relevância:** Adequação dos dados para o propósito de uso.\n",
    "- **Compreensibilidade:** Facilidade com que os dados podem ser entendidos.\n",
    "- **Interoperabilidade:** Capacidade dos dados serem integrados com outros sistemas.\n",
    "- **Conformidade:** Adesão a padrões e regulamentos pertinentes.\n"
   ]
  },
  {
   "cell_type": "markdown",
   "metadata": {
    "cell_id": "4abde693349a4cfca2043aa8f183edec",
    "deepnote_cell_type": "text-cell-p",
    "formattedRanges": [
     {
      "fromCodePoint": 0,
      "marks": {
       "bold": true
      },
      "toCodePoint": 21,
      "type": "marks"
     },
     {
      "fromCodePoint": 119,
      "marks": {
       "bold": true
      },
      "toCodePoint": 143,
      "type": "marks"
     },
     {
      "fromCodePoint": 279,
      "marks": {
       "bold": true
      },
      "toCodePoint": 315,
      "type": "marks"
     },
     {
      "fromCodePoint": 387,
      "marks": {
       "bold": true
      },
      "toCodePoint": 429,
      "type": "marks"
     },
     {
      "fromCodePoint": 560,
      "marks": {
       "bold": true
      },
      "toCodePoint": 561,
      "type": "marks"
     }
    ]
   },
   "source": [
    "**Exemplo de Qualidade de Dados aplicados à uma empresa:**\n",
    "\n",
    "Cenário: Uma empresa de comércio eletrônico deseja garantir a qualidade dos dados em seu sistema para fornecer uma experiência confiável aos clientes e garantir a precisão e integridade das informações.\n",
    "\n",
    "Regras de Qualidade de Dados:\n",
    "\n",
    "* Precisão dos Preços: Verificar se todos os preços dos produtos correspondem exatamente aos preços listados pelos fornecedores.\n",
    "* Atualização de Estoque: Garantir que as informações de estoque sejam atualizadas em tempo real para refletir as mudanças após cada venda ou recebimento de novos produtos.\n",
    "* Consistência de Dados de Cliente: Assegurar que as informações dos clientes sejam consistentes em todos os sistemas da empresa.\n",
    "* Integridade das Avaliações de Produtos: Certificar-se de que as avaliações dos produtos sejam completas, incluindo autor, data e conteúdo da avaliação, e que venham de clientes verificados."
   ]
  },
  {
   "cell_type": "code",
   "execution_count": 1,
   "metadata": {
    "cell_id": "edaceaa0a92c4b17b01290fdb858fdff",
    "deepnote_cell_type": "code",
    "deepnote_to_be_reexecuted": false,
    "execution_millis": 2721,
    "execution_start": 1702332359591,
    "source_hash": null
   },
   "outputs": [],
   "source": [
    "#Importando as bibliotecas\n",
    "import pandas as pd\n",
    "import matplotlib.pyplot as plt\n",
    "import seaborn as sns\n"
   ]
  },
  {
   "cell_type": "markdown",
   "metadata": {
    "cell_id": "cb60273a958c4234ab4140218ac54822",
    "deepnote_cell_type": "text-cell-p",
    "formattedRanges": [
     {
      "fromCodePoint": 0,
      "marks": {
       "bold": true
      },
      "toCodePoint": 100,
      "type": "marks"
     }
    ]
   },
   "source": [
    "**Baseado na base de dados do Titanic, criaremos validações simples sem o uso de ferramentas de testes.**"
   ]
  },
  {
   "cell_type": "code",
   "execution_count": null,
   "metadata": {
    "cell_id": "bcc9e1f6dc194b3d8baeb7f290e8cc15",
    "deepnote_cell_type": "code",
    "deepnote_to_be_reexecuted": false,
    "execution_millis": 331,
    "execution_start": 1702332362300,
    "source_hash": null
   },
   "outputs": [
    {
     "name": "stdout",
     "output_type": "stream",
     "text": [
      "   survived  pclass     sex   age  sibsp  parch     fare embarked  class  \\\n",
      "0         0       3    male  22.0      1      0   7.2500        S  Third   \n",
      "1         1       1  female  38.0      1      0  71.2833        C  First   \n",
      "2         1       3  female  26.0      0      0   7.9250        S  Third   \n",
      "3         1       1  female  35.0      1      0  53.1000        S  First   \n",
      "4         0       3    male  35.0      0      0   8.0500        S  Third   \n",
      "\n",
      "     who  adult_male deck  embark_town alive  alone  \n",
      "0    man        True  NaN  Southampton    no  False  \n",
      "1  woman       False    C    Cherbourg   yes  False  \n",
      "2  woman       False  NaN  Southampton   yes   True  \n",
      "3  woman       False    C  Southampton   yes  False  \n",
      "4    man        True  NaN  Southampton    no   True  \n"
     ]
    }
   ],
   "source": [
    "titanic = sns.load_dataset(\"titanic\")\n",
    "print(titanic.head())"
   ]
  },
  {
   "cell_type": "code",
   "execution_count": null,
   "metadata": {
    "cell_id": "732b3795be0246c0adbca6b06c156b09",
    "deepnote_cell_type": "code",
    "deepnote_to_be_reexecuted": false,
    "execution_millis": 37,
    "execution_start": 1702332362618,
    "source_hash": null
   },
   "outputs": [
    {
     "data": {
      "text/plain": [
       "(891, 15)"
      ]
     },
     "execution_count": 3,
     "metadata": {},
     "output_type": "execute_result"
    }
   ],
   "source": [
    "titanic.shape"
   ]
  },
  {
   "cell_type": "code",
   "execution_count": null,
   "metadata": {
    "cell_id": "545b58632a8743368cff5c25980e41a2",
    "deepnote_cell_type": "code",
    "deepnote_to_be_reexecuted": false,
    "execution_millis": 21,
    "execution_start": 1702332362629,
    "source_hash": null
   },
   "outputs": [
    {
     "name": "stdout",
     "output_type": "stream",
     "text": [
      "Registros com idades inválidas:\n",
      " Empty DataFrame\n",
      "Columns: [survived, pclass, sex, age, sibsp, parch, fare, embarked, class, who, adult_male, deck, embark_town, alive, alone]\n",
      "Index: []\n"
     ]
    }
   ],
   "source": [
    "#Verificando se há a coluna 'age' possuem valores com menos de 0 ou mais de 100 anos\n",
    "\n",
    "invalid_ages = titanic[(titanic['age'] < 0) | (titanic['age'] > 100)]\n",
    "print(\"Registros com idades inválidas:\\n\", invalid_ages)\n"
   ]
  },
  {
   "cell_type": "markdown",
   "metadata": {
    "cell_id": "bb872e0ada57421b8380f88c37dac8f8",
    "deepnote_cell_type": "text-cell-p",
    "formattedRanges": [
     {
      "fromCodePoint": 23,
      "marks": {
       "bold": true
      },
      "toCodePoint": 39,
      "type": "marks"
     }
    ]
   },
   "source": [
    "**Obs: O resultado Empty DataFrame indica que não há valores fora dos filtros aplicados**"
   ]
  },
  {
   "cell_type": "code",
   "execution_count": null,
   "metadata": {
    "cell_id": "972fc258210b44398ad7b730b35a3bfd",
    "deepnote_cell_type": "code",
    "deepnote_to_be_reexecuted": false,
    "execution_millis": 16,
    "execution_start": 1702332362658,
    "source_hash": null
   },
   "outputs": [
    {
     "name": "stdout",
     "output_type": "stream",
     "text": [
      "Registros com valores inválidos para 'Survived':\n",
      " Empty DataFrame\n",
      "Columns: [survived, pclass, sex, age, sibsp, parch, fare, embarked, class, who, adult_male, deck, embark_town, alive, alone]\n",
      "Index: []\n"
     ]
    }
   ],
   "source": [
    "# Verificar se há valores diferentes de 0 e 1\n",
    "invalid_survived = titanic[~titanic['survived'].isin([0, 1])]\n",
    "print(\"Registros com valores inválidos para 'Survived':\\n\", invalid_survived)\n"
   ]
  },
  {
   "cell_type": "code",
   "execution_count": null,
   "metadata": {
    "cell_id": "ead02808d7024114999dd2beb5f1cfce",
    "deepnote_cell_type": "code",
    "deepnote_to_be_reexecuted": false,
    "execution_millis": 32,
    "execution_start": 1702332362704,
    "source_hash": null
   },
   "outputs": [
    {
     "name": "stdout",
     "output_type": "stream",
     "text": [
      "Registro com classes inválidas:\n",
      " Empty DataFrame\n",
      "Columns: [survived, pclass, sex, age, sibsp, parch, fare, embarked, class, who, adult_male, deck, embark_town, alive, alone]\n",
      "Index: []\n"
     ]
    }
   ],
   "source": [
    "#Verificando se há classes fora de 1, 2 ou 3\n",
    "invalid_class = titanic[~titanic['pclass'].isin([1,2,3])]\n",
    "print('Registro com classes inválidas:\\n', invalid_class)"
   ]
  },
  {
   "cell_type": "code",
   "execution_count": null,
   "metadata": {
    "cell_id": "fa68a54719fe4d42b3bf0b64896b1068",
    "deepnote_cell_type": "code",
    "deepnote_to_be_reexecuted": false,
    "execution_millis": 30,
    "execution_start": 1702332362705,
    "source_hash": null
   },
   "outputs": [
    {
     "name": "stdout",
     "output_type": "stream",
     "text": [
      "Registros com valores invalidos na colna sex:\n",
      " Empty DataFrame\n",
      "Columns: [survived, pclass, sex, age, sibsp, parch, fare, embarked, class, who, adult_male, deck, embark_town, alive, alone]\n",
      "Index: []\n"
     ]
    }
   ],
   "source": [
    "#verificando se há strings diferentes entre male ou female na coluna sex\n",
    "\n",
    "sex = titanic[~titanic['sex'].isin(['male', 'female'])]\n",
    "print(\"Registros com valores invalidos na colna sex:\\n\", sex)"
   ]
  },
  {
   "cell_type": "code",
   "execution_count": null,
   "metadata": {
    "cell_id": "ec51567681264264b2196b6ef3691535",
    "deepnote_cell_type": "code",
    "deepnote_to_be_reexecuted": false,
    "execution_millis": 51,
    "execution_start": 1702332362706,
    "source_hash": null
   },
   "outputs": [
    {
     "name": "stdout",
     "output_type": "stream",
     "text": [
      "Registros com portos de embarque inválidos:\n",
      "      survived  pclass     sex   age  sibsp  parch  fare embarked  class  \\\n",
      "61          1       1  female  38.0      0      0  80.0      NaN  First   \n",
      "829         1       1  female  62.0      0      0  80.0      NaN  First   \n",
      "\n",
      "       who  adult_male deck embark_town alive  alone  \n",
      "61   woman       False    B         NaN   yes   True  \n",
      "829  woman       False    B         NaN   yes   True  \n"
     ]
    }
   ],
   "source": [
    "# Verificando se há valores fora de 'S', 'C', 'Q'\n",
    "invalid_embarked = titanic[~titanic['embarked'].isin(['S', 'C', 'Q'])]\n",
    "print(\"Registros com portos de embarque inválidos:\\n\", invalid_embarked)\n"
   ]
  },
  {
   "cell_type": "markdown",
   "metadata": {
    "cell_id": "7fd7186e39da485cb47accf5c6d5d532",
    "deepnote_cell_type": "text-cell-p",
    "formattedRanges": [
     {
      "fromCodePoint": 0,
      "marks": {
       "bold": true
      },
      "toCodePoint": 67,
      "type": "marks"
     }
    ]
   },
   "source": [
    "**Obs:** O retorno acima indica que há duas entradas com valores nulos (NaN)"
   ]
  },
  {
   "cell_type": "markdown",
   "metadata": {
    "cell_id": "5e38e32181254db491142cc0646bb46e",
    "deepnote_cell_type": "text-cell-p",
    "formattedRanges": [
     {
      "fromCodePoint": 0,
      "marks": {
       "bold": true
      },
      "toCodePoint": 76,
      "type": "marks"
     }
    ]
   },
   "source": [
    "**Vamos completar os dados faltantes na base do Titanic e explicar a regra usada para isso.**"
   ]
  },
  {
   "cell_type": "code",
   "execution_count": null,
   "metadata": {
    "cell_id": "2a7e219c6bd546d0a2fc5c05dc555af4",
    "deepnote_cell_type": "code",
    "deepnote_to_be_reexecuted": false,
    "execution_millis": 53,
    "execution_start": 1702332362750,
    "source_hash": null
   },
   "outputs": [
    {
     "name": "stdout",
     "output_type": "stream",
     "text": [
      "survived         0\n",
      "pclass           0\n",
      "sex              0\n",
      "age            177\n",
      "sibsp            0\n",
      "parch            0\n",
      "fare             0\n",
      "embarked         2\n",
      "class            0\n",
      "who              0\n",
      "adult_male       0\n",
      "deck           688\n",
      "embark_town      2\n",
      "alive            0\n",
      "alone            0\n",
      "dtype: int64\n"
     ]
    }
   ],
   "source": [
    "missing_data = titanic.isnull().sum()\n",
    "print(missing_data)\n"
   ]
  },
  {
   "cell_type": "markdown",
   "metadata": {
    "cell_id": "b93001b7afed412b903e7b5fd69cdbf2",
    "deepnote_cell_type": "text-cell-p",
    "formattedRanges": [
     {
      "fromCodePoint": 0,
      "marks": {
       "bold": true
      },
      "toCodePoint": 38,
      "type": "marks"
     }
    ]
   },
   "source": [
    "**Notamos os seguintes valores ausentes:**"
   ]
  },
  {
   "cell_type": "markdown",
   "metadata": {
    "cell_id": "cc1ee192e7b14ba0b7db9949d069dac3",
    "deepnote_cell_type": "text-cell-p",
    "formattedRanges": []
   },
   "source": [
    "* age            177\n",
    "* embarked   2\n",
    "* deck 688\n",
    "* embark_town      2"
   ]
  },
  {
   "cell_type": "markdown",
   "metadata": {
    "cell_id": "61bf3eb4175e424ba021418f3eb22b80",
    "deepnote_cell_type": "text-cell-p",
    "formattedRanges": [
     {
      "fromCodePoint": 0,
      "marks": {
       "bold": true
      },
      "toCodePoint": 8,
      "type": "marks"
     }
    ]
   },
   "source": [
    "**Soluções:** Como a coluna 'age' é bastante importante para o entendimento dos dados ou mesmo modelos preditivos, e,  por sua própria natureza bastante suscetível a outliers, se utilizarmos a média, obteremos uma distorção muito grande. Desta forma, a abordagem mais apropriada parece ser a utilização da mediana."
   ]
  },
  {
   "cell_type": "code",
   "execution_count": null,
   "metadata": {
    "cell_id": "7f07d278d0d74a1a9027a1c94d5132be",
    "deepnote_cell_type": "code",
    "deepnote_to_be_reexecuted": false,
    "execution_millis": 29,
    "execution_start": 1702332362777,
    "source_hash": null
   },
   "outputs": [],
   "source": [
    "titanic['age'].fillna(titanic['age'].median(), inplace=True)\n"
   ]
  },
  {
   "cell_type": "markdown",
   "metadata": {
    "cell_id": "de0e6fbf1a10466a9c4ac7655630d51d",
    "deepnote_cell_type": "text-cell-p",
    "formattedRanges": []
   },
   "source": [
    "**Abaixo:** uma abordagem interessante para essa coluna pode ser a utilização do valor mais comum, no caso, a moda:"
   ]
  },
  {
   "cell_type": "code",
   "execution_count": null,
   "metadata": {
    "cell_id": "dda135a06b9a4264b3b3d4e8c4adffbf",
    "deepnote_cell_type": "code",
    "deepnote_to_be_reexecuted": false,
    "execution_millis": 29,
    "execution_start": 1702332362782,
    "source_hash": null
   },
   "outputs": [],
   "source": [
    "#filtrando os dados conforme a moda\n",
    "most_commom_emb1 =titanic['embarked'].mode()[0]\n",
    "#Substituindo os dados pela moda\n",
    "titanic['embarked'].fillna(most_commom_emb1, inplace=True)"
   ]
  },
  {
   "cell_type": "code",
   "execution_count": null,
   "metadata": {
    "cell_id": "a10524a63d2f42a590df7692b9f4f3b7",
    "deepnote_cell_type": "code",
    "deepnote_to_be_reexecuted": false,
    "execution_millis": 77,
    "execution_start": 1702332362813,
    "source_hash": null
   },
   "outputs": [],
   "source": [
    "#filtrando os dados conforme a moda\n",
    "most_commom_emb2 =titanic['embark_town'].mode()[0]\n",
    "#Substituindo os dados pela moda\n",
    "titanic['embark_town'].fillna(most_commom_emb2, inplace=True)"
   ]
  },
  {
   "cell_type": "markdown",
   "metadata": {
    "cell_id": "44a232b834f24bf696607dfc1d045f8f",
    "deepnote_cell_type": "text-cell-p",
    "formattedRanges": [
     {
      "fromCodePoint": 206,
      "marks": {
       "bold": true
      },
      "toCodePoint": 215,
      "type": "marks"
     }
    ]
   },
   "source": [
    "**Obs:** A coluna 'deck' , além de possuir muitos valores ausentes, pode não possuir muita importância nem para a nossa análise e tampouco para a implementação de um modelo preditivo. Desta forma, a minha opção foi excluí-la do nosso DataFrame:"
   ]
  },
  {
   "cell_type": "code",
   "execution_count": null,
   "metadata": {
    "cell_id": "15de9c8f29d945b982ba84fd717ba5ca",
    "deepnote_cell_type": "code",
    "deepnote_to_be_reexecuted": false,
    "execution_millis": 33,
    "execution_start": 1702332362854,
    "source_hash": null
   },
   "outputs": [],
   "source": [
    "titanic.drop('deck', axis=1, inplace=True)"
   ]
  },
  {
   "cell_type": "code",
   "execution_count": null,
   "metadata": {
    "cell_id": "59ab2024f8a84e868b015e7a1907da11",
    "deepnote_cell_type": "code",
    "deepnote_to_be_reexecuted": false,
    "execution_millis": 32,
    "execution_start": 1702332362854,
    "source_hash": null
   },
   "outputs": [
    {
     "name": "stdout",
     "output_type": "stream",
     "text": [
      "survived       0\n",
      "pclass         0\n",
      "sex            0\n",
      "age            0\n",
      "sibsp          0\n",
      "parch          0\n",
      "fare           0\n",
      "embarked       0\n",
      "class          0\n",
      "who            0\n",
      "adult_male     0\n",
      "embark_town    0\n",
      "alive          0\n",
      "alone          0\n",
      "dtype: int64\n"
     ]
    }
   ],
   "source": [
    "#Verificando valores ausentes após o tratamento dos dados\n",
    "missing_data = titanic.isnull().sum()\n",
    "print(missing_data)\n"
   ]
  },
  {
   "cell_type": "markdown",
   "metadata": {
    "cell_id": "6237b76e2dba4d419e470ba4d8c88abc",
    "deepnote_cell_type": "text-cell-p",
    "formattedRanges": []
   },
   "source": [
    "**O resultado do código acima nos apresenta que não existem mais valores ausentes em nosso DataFrame**"
   ]
  },
  {
   "cell_type": "markdown",
   "metadata": {
    "cell_id": "289941d3b0f0494d9eca3134d3f813c8",
    "deepnote_cell_type": "text-cell-p",
    "formattedRanges": [
     {
      "fromCodePoint": 0,
      "marks": {
       "bold": true
      },
      "toCodePoint": 112,
      "type": "marks"
     }
    ]
   },
   "source": [
    "**Função do Pandera:** Validar esquemas de DataFrames do Pandas, garantindo a qualidade e consistência dos dados.\n",
    "\n",
    "**Vantagens:**\n",
    "\n",
    "* Melhora a qualidade dos dados.\n",
    "* Detecta erros precocemente.\n",
    "* Documenta a estrutura esperada dos dados.\n",
    "* Integra-se facilmente em pipelines de dados existentes.\n",
    "\n",
    "**Desvantagens:**\n",
    "\n",
    "* Adiciona complexidade ao processamento de dados.\n",
    "* Pode impactar o desempenho, especialmente com grandes volumes de dados ou regras complexas.\n",
    "* Regras muito estritas podem impedir o processamento de dados válidos."
   ]
  },
  {
   "cell_type": "markdown",
   "metadata": {
    "cell_id": "49c559e932ce4ba29130895aa623eb19",
    "deepnote_cell_type": "text-cell-p",
    "formattedRanges": [
     {
      "fromCodePoint": 0,
      "marks": {
       "bold": true
      },
      "toCodePoint": 14,
      "type": "marks"
     }
    ]
   },
   "source": [
    "**Base de Dados Faker**"
   ]
  },
  {
   "cell_type": "code",
   "execution_count": null,
   "metadata": {
    "cell_id": "2f824f93c1044acab4bd4d8142eadc81",
    "deepnote_cell_type": "code",
    "deepnote_to_be_reexecuted": false,
    "execution_millis": 7756,
    "execution_start": 1702332362869,
    "source_hash": null
   },
   "outputs": [
    {
     "name": "stdout",
     "output_type": "stream",
     "text": [
      "Collecting faker\n",
      "  Downloading Faker-20.1.0-py3-none-any.whl (1.7 MB)\n",
      "\u001b[2K     \u001b[90m━━━━━━━━━━━━━━━━━━━━━━━━━━━━━━━━━━━━━━━━\u001b[0m \u001b[32m1.7/1.7 MB\u001b[0m \u001b[31m44.9 MB/s\u001b[0m eta \u001b[36m0:00:00\u001b[0m\n",
      "\u001b[?25hRequirement already satisfied: python-dateutil>=2.4 in /shared-libs/python3.9/py-core/lib/python3.9/site-packages (from faker) (2.8.2)\n",
      "Requirement already satisfied: six>=1.5 in /shared-libs/python3.9/py-core/lib/python3.9/site-packages (from python-dateutil>=2.4->faker) (1.16.0)\n",
      "Installing collected packages: faker\n",
      "Successfully installed faker-20.1.0\n",
      "\n",
      "\u001b[1m[\u001b[0m\u001b[34;49mnotice\u001b[0m\u001b[1;39;49m]\u001b[0m\u001b[39;49m A new release of pip is available: \u001b[0m\u001b[31;49m23.0.1\u001b[0m\u001b[39;49m -> \u001b[0m\u001b[32;49m23.3.1\u001b[0m\n",
      "\u001b[1m[\u001b[0m\u001b[34;49mnotice\u001b[0m\u001b[1;39;49m]\u001b[0m\u001b[39;49m To update, run: \u001b[0m\u001b[32;49mpip install --upgrade pip\u001b[0m\n"
     ]
    }
   ],
   "source": [
    "!pip install faker"
   ]
  },
  {
   "cell_type": "code",
   "execution_count": null,
   "metadata": {
    "cell_id": "51a1add2856a416e89d22e5ad8ff817b",
    "deepnote_cell_type": "code",
    "deepnote_to_be_reexecuted": false,
    "execution_millis": 286,
    "execution_start": 1702332370632,
    "source_hash": null
   },
   "outputs": [],
   "source": [
    "from faker import Faker\n",
    "\n",
    "fake = Faker('pt_BR')\n",
    "num_linhas = 400\n",
    "\n",
    "dados = {\n",
    "\n",
    "'Nome': [fake.name() for _ in range(num_linhas)],\n",
    "\n",
    "'Idade': [fake.random_int(min=18, max=80) if random.random() > 0.05 else np.nan for _ in range(num_linhas)],\n",
    "\n",
    "'Email': [fake.email() for _ in range(num_linhas)],\n",
    "\n",
    "'Endereço': [fake.address() for _ in range(num_linhas)],\n",
    "\n",
    "'Telefone': [fake.phone_number() for _ in range(num_linhas)],\n",
    "\n",
    "'Profissão': [fake.job() for _ in range(num_linhas)],\n",
    "\n",
    "'Data de Nascimento': [fake.date_of_birth() for _ in range(num_linhas)],\n",
    "\n",
    "'Cidade': [fake.city() for _ in range(num_linhas)],\n",
    "\n",
    "'Estado': [fake.state_abbr() if random.random() > 0.05 else np.nan for _ in range(num_linhas)], \n",
    "\n",
    "'Salário': [fake.random_int(min=30000, max=120000) if random.random() > 0.05 else np.nan for _ in range(num_linhas)]}"
   ]
  },
  {
   "cell_type": "code",
   "execution_count": null,
   "metadata": {
    "cell_id": "1f463205feb34b5e9d99a2bce4ea1fdd",
    "deepnote_cell_type": "code",
    "deepnote_to_be_reexecuted": false,
    "execution_millis": 46,
    "execution_start": 1702332370922,
    "source_hash": null
   },
   "outputs": [
    {
     "name": "stdout",
     "output_type": "stream",
     "text": [
      "{'Nome': ['Gustavo Henrique Rezende', 'Melissa Silveira', 'Vitor Rodrigues', 'Amanda Moreira', 'Sr. Enrico Dias', 'Isabel Peixoto', 'Sr. Marcos Vinicius Pinto', 'Amanda Ramos', 'Maria Julia Costa', 'Thiago Novaes', 'Francisco Azevedo', 'Natália Souza', 'Carolina Sales', 'Helena Alves', 'Noah Santos', 'Cecília Nogueira', 'Clara Monteiro', 'Dr. Eduardo Cardoso', 'Lara Viana', 'Dr. Vitor Nogueira', 'Emanuella Vieira', 'Ana Carolina Ferreira', 'Guilherme Correia', 'Dr. Heitor Gonçalves', 'Diogo Duarte', 'Pietro da Rocha', 'Emanuella Gomes', 'Joana Ramos', 'Pietra Nascimento', 'Ana Clara da Costa', 'Sra. Marina Correia', 'Brenda Cunha', 'João Felipe Nascimento', 'Dr. Luiz Henrique Oliveira', 'Pietra da Conceição', 'Esther Freitas', 'Mirella Rezende', 'Daniela Oliveira', 'Bruna Jesus', 'Davi Luiz Costela', 'Arthur da Mata', 'Helena Almeida', 'Vitória Silveira', 'Sr. Vicente Vieira', 'Eloah da Mata', 'Nina Gonçalves', 'Pedro Henrique Costela', 'Rodrigo Pires', 'Ana Carolina Sales', 'Leandro Peixoto', 'Igor Sales', 'Benjamin Correia', 'Clarice Pires', 'Valentina Nogueira', 'Davi Viana', 'Marcela Moura', 'Caio Lima', 'Pedro Henrique Silva', 'Júlia Moraes', 'Sra. Sophia Jesus', 'Vicente Viana', 'Calebe Teixeira', 'Emanuelly da Paz', 'Leonardo Mendes', 'Daniela Nunes', 'João Porto', 'Luigi Freitas', 'Ana Julia Porto', 'Theo da Cruz', 'Noah Monteiro', 'Rebeca Freitas', 'Joana Correia', 'Pietra Costa', 'João Guilherme Silva', 'Sr. Eduardo Nascimento', 'Maria Luiza Moura', 'Yasmin da Paz', 'Luigi Cunha', 'Daniela Duarte', 'Ana Clara Alves', 'Sophia Novaes', 'Ana Laura Oliveira', 'Elisa Ramos', 'Camila Ramos', 'Ana Sophia Cunha', 'Miguel Barros', 'Stephany Costa', 'Henrique Nascimento', 'Vitor Azevedo', 'Júlia Moura', 'Marina Caldeira', 'Marcos Vinicius Duarte', 'Luiz Miguel da Conceição', 'Nicole Gomes', 'Fernanda Cardoso', 'Isabella das Neves', 'Luiz Miguel Duarte', 'Srta. Amanda Gomes', 'Maria Alice Silva', 'Evelyn da Cunha', 'Yago Melo', 'Ana Clara das Neves', 'Sabrina Viana', 'Vitor Hugo Campos', 'Dr. Ian Farias', 'Dr. Yuri da Mota', 'Danilo Vieira', 'Fernanda Rezende', 'Caroline Nascimento', 'Sofia Nunes', 'Olivia Cardoso', 'Carolina Novaes', 'Breno Costa', 'Dr. Luiz Fernando Gonçalves', 'Dra. Maria Sophia da Luz', 'Dra. Ana Júlia Nunes', 'Dra. Catarina Costa', 'Thales Moraes', 'Mariane Pires', 'Emilly da Cunha', 'Enzo Rezende', 'Leonardo Souza', 'Dr. Davi Lucas Nogueira', 'Marcela Oliveira', 'Sra. Manuela Almeida', 'Maria Julia Martins', 'Isabelly Pereira', 'Sabrina Carvalho', 'Igor da Cruz', 'Ana Carolina Peixoto', 'Manuela Santos', 'Yasmin Monteiro', 'Dr. João Gabriel Pires', 'Benício Silva', 'Brenda Pires', 'Vitor Melo', 'Kamilly Moura', 'Emanuella Silva', 'Olivia Martins', 'Bernardo Sales', 'Guilherme Freitas', 'Enrico Oliveira', 'Luigi Silva', 'Dr. Rafael Aragão', 'Olivia Cunha', 'Lucas Gabriel Oliveira', 'João Pedro Novaes', 'Agatha Souza', 'Igor Ferreira', 'Bárbara Castro', 'Maria Clara da Cunha', 'Igor Nascimento', 'Srta. Natália Fernandes', 'Kaique da Rosa', 'Melissa Rodrigues', 'João Guilherme Farias', 'Milena Ramos', 'Laura Silva', 'Maria Fernanda Nascimento', 'Maria da Rocha', 'Sra. Ana Clara Santos', 'Maria Cecília Fernandes', 'Luiza Cunha', 'Evelyn Azevedo', 'Cauã da Luz', 'Joana Teixeira', 'Ana Lívia Silveira', 'Kaique Fernandes', 'Alice Vieira', 'Sophie Costa', 'Ana Carolina Fernandes', 'Gustavo Azevedo', 'Valentina Freitas', 'Anthony Monteiro', 'Marcela Ferreira', 'Srta. Stephany Nunes', 'Pietro Rodrigues', 'Srta. Olivia Freitas', 'Vitor Hugo Dias', 'Luana Araújo', 'João Lucas da Costa', 'João Miguel Dias', 'Yuri Campos', 'Gabriel Ferreira', 'Luiz Otávio Correia', 'Luiz Felipe Fogaça', 'Júlia Cavalcanti', 'Kevin Porto', 'Sabrina Viana', 'Sr. Anthony Cardoso', 'Miguel Lima', 'André Pereira', 'Emilly Souza', 'Fernanda Melo', 'Sr. Cauê Correia', 'Bernardo Cunha', 'Júlia Campos', 'Luiz Miguel Costela', 'Leonardo da Cunha', 'Srta. Caroline Castro', 'Dra. Eloah Barbosa', 'Kaique Peixoto', 'Anthony Alves', 'Sra. Cecília Carvalho', 'Agatha Cunha', 'Marcelo Monteiro', 'Bryan Costa', 'Heitor Aragão', 'Ryan Rezende', 'Maria Julia da Costa', 'Camila Fernandes', 'Enzo Duarte', 'Kamilly Pinto', 'Thales Fernandes', 'Erick Nogueira', 'Laura da Costa', 'Dra. Beatriz Sales', 'Sabrina Peixoto', 'Alícia Fogaça', 'Vitor Hugo Moura', 'Lavínia Oliveira', 'Sra. Mariana da Rocha', 'Alexandre Rocha', 'Amanda Araújo', 'Giovanna Souza', 'Raquel Viana', 'Dr. Antônio Aragão', 'Davi Cardoso', 'Srta. Maria Eduarda Campos', 'Isabella Duarte', 'Camila Nogueira', 'Pedro Silveira', 'Emilly Pereira', 'Bárbara Moraes', 'Enzo Gabriel Lima', 'Srta. Ana Carolina Castro', 'Elisa Gomes', 'Sr. Kevin Silva', 'Sr. Felipe da Rosa', 'Sr. Ian Nunes', 'Laís Moreira', 'Ana Lívia Rocha', 'Luiz Otávio Costa', 'Sabrina da Cruz', 'Gabrielly Barros', 'Diogo Castro', 'Pedro da Rosa', 'Julia Rocha', 'Kevin Cardoso', 'Noah Ferreira', 'Sra. Pietra Cunha', 'Bernardo Moura', 'Lucas Gabriel Moura', 'Luiz Felipe Nascimento', 'Maria Luiza Nogueira', 'Alice Moura', 'Gustavo Henrique Aragão', 'Isabel Campos', 'Nina Araújo', 'Yasmin Cardoso', 'Gabriela Porto', 'Igor Cardoso', 'André Costa', 'Ian Cardoso', 'Murilo das Neves', 'Dra. Natália Souza', 'Ryan Vieira', 'Samuel Vieira', 'Kaique Aragão', 'Sarah Pires', 'Arthur Castro', 'Rafaela Silva', 'Thomas Martins', 'Antônio da Mata', 'Davi Lucca Fogaça', 'Davi Luiz Novaes', 'Giovanna Gomes', 'Dr. Enzo Gabriel Alves', 'Erick Souza', 'Ana Vitória Sales', 'Gustavo Henrique Moura', 'Sr. Vicente Duarte', 'Lívia Pinto', 'Vitória Gonçalves', 'Davi Lucas Barbosa', 'Luiz Miguel da Mata', 'Valentina Cardoso', 'Helena Ribeiro', 'Dr. Nathan Cardoso', 'Mirella Pereira', 'Maria Alice Melo', 'Dr. Matheus Nunes', 'Danilo Moreira', 'Sra. Agatha Campos', 'Larissa da Luz', 'Bryan Lima', 'Mariana Porto', 'Benjamin da Cunha', 'Sra. Clarice Silva', 'Bianca da Mota', 'Lucas Gabriel Lopes', 'Pedro Henrique Teixeira', 'Thomas Martins', 'Matheus Ferreira', 'Sra. Ana da Rosa', 'Luiz Henrique Alves', 'João Guilherme Almeida', 'Emanuelly da Luz', 'Caio Novaes', 'Guilherme Fernandes', 'Alice Teixeira', 'Bianca da Luz', 'Sr. Eduardo Costela', 'Heloísa Aragão', 'Isadora da Cunha', 'Henrique Barros', 'Sr. Raul Duarte', 'Dra. Alícia Pinto', 'Srta. Isabel Dias', 'Sra. Laura Moreira', 'Bryan Cavalcanti', 'Nina Moura', 'Eloah Costela', 'Thiago Barros', 'Lívia Barbosa', 'Murilo Pires', 'Sr. Diogo Pereira', 'Lucca Freitas', 'Sr. Isaac Campos', 'Agatha Carvalho', 'Maria Cecília Santos', 'Eloah Gonçalves', 'Theo Barros', 'Lorenzo Rezende', 'Sabrina Fogaça', 'Vicente Araújo', 'Dr. Paulo Lima', 'Guilherme da Mota', 'Sr. Lucca Monteiro', 'Isis Duarte', 'Enzo Gabriel Alves', 'Maria Eduarda Rodrigues', 'Pedro Rodrigues', 'Esther Dias', 'Maria Cecília da Cunha', 'Bryan Alves', 'Elisa Cardoso', 'Otávio Porto', 'Maitê Ferreira', 'Benício Barros', 'Paulo Almeida', 'Heitor Ramos', 'Erick Moraes', 'Enzo Gabriel Farias', 'Evelyn Santos', 'Rafaela Moraes', 'Sra. Brenda Oliveira', 'Arthur Gomes', 'Mirella Farias', 'Manuela Novaes', 'Maria Vitória Aragão', 'Breno Mendes', 'Paulo Rezende', 'Srta. Caroline Melo', 'Brenda da Cunha', 'Isabel Rezende', 'Erick Jesus', 'Luana Ribeiro', 'Maria Sophia Barros', 'Danilo da Mota', 'Guilherme Gomes', 'Dr. Levi Araújo', 'Kamilly Porto', 'Sabrina Aragão', 'Dra. Beatriz da Costa', 'Sarah Almeida', 'Alícia Costela', 'Daniela Aragão', 'Pietra Viana', 'Dra. Kamilly Lopes', 'Sr. Eduardo Almeida', 'Helena Pereira', 'Ana Laura Viana', 'Vitor Gabriel da Rocha', 'Felipe Lopes', 'Marcelo da Costa', 'Milena Aragão', 'Pietra da Cruz', 'Juliana da Paz', 'Anthony Castro', 'Isadora Martins', 'Marina da Paz', 'Sr. Pedro Miguel Pires', 'Murilo Pires', 'Bernardo Rodrigues', 'Bryan Porto', 'Emilly Peixoto', 'Amanda Cardoso', 'Leandro Costa', 'Diogo Porto'], 'Idade': [67, nan, 58, 26, 59, 46, 54, 19, 64, 46, 57, 76, 78, 48, 75, 24, 42, 50, 72, 46, nan, 34, 19, 56, 36, 25, 35, 63, 54, 27, 44, 36, 77, 31, 79, 25, 26, 30, 50, 54, 56, 54, 32, 22, 20, 72, 48, 40, 22, 41, 75, 74, 63, 37, 51, 53, nan, 49, 44, 50, 31, 47, 45, 46, 53, 21, 65, 35, 49, 56, 19, 32, nan, 59, 29, 70, 30, 37, 39, 26, 77, 54, 78, 41, 55, 56, 41, 37, 74, nan, 74, 56, 51, 36, 30, 64, 55, 48, 36, 61, 50, 42, 31, 31, 58, 54, 23, 50, nan, 24, 33, 58, 74, 79, 26, 36, 40, 69, 19, 76, 45, 42, 59, 59, 25, 59, 38, 57, 60, 54, 22, 46, 53, 71, 68, 29, 73, 72, 41, 20, 24, 37, 72, 76, 72, 66, 70, 71, 42, 46, 55, 51, 59, 54, 65, 65, 42, 59, 63, nan, 58, 37, 37, nan, 40, 21, 49, 62, 29, 76, 42, 50, 49, nan, 40, 57, 24, 31, 33, 79, 28, nan, 22, 53, nan, 75, 60, 34, 73, 21, 38, 51, 26, 44, 43, 27, nan, 69, 19, nan, 21, 35, 65, 68, 29, 45, 38, 77, 52, 30, 29, 27, 80, 55, 32, 51, 49, 56, 62, 67, 54, 55, 35, 67, nan, 71, 70, 57, 26, 66, nan, nan, 53, 66, 37, 30, 37, 67, 68, 80, 75, 35, 32, 40, nan, nan, 75, 54, 58, 27, 70, 66, 40, 66, 37, 50, nan, 67, nan, 44, 46, 20, 58, 27, 39, 49, 57, 77, 67, 33, 58, 44, 79, 27, 80, 35, 52, 25, nan, 65, 59, 76, 44, 80, 59, 56, 50, 44, 37, 79, 66, 80, 45, 25, 53, 60, 44, 45, 66, 42, 19, 69, 45, 19, 35, 46, 71, 37, 66, 41, 63, 62, 39, 54, 54, 48, 48, 68, 53, 19, 30, 40, 25, 71, 61, 40, 57, 63, 30, 23, 77, 62, 24, 44, 36, 43, 65, 25, 58, 66, 72, 40, 42, 35, 51, 59, 77, 71, 27, 72, nan, 80, nan, 28, 18, 64, 39, 30, 43, 51, 26, 57, 74, 40, 59, 60, 28, 29, 76, 73, 51, 34, 57, 67, 79, 60, 38, 26, 60, nan, 66, 39, 50, 55, 72, 37, 46, 25, 26, 44, 56, 51, 64, 53, 30, 38, 68, 49, 46, 54], 'Email': ['umartins@example.net', 'jesusmaria-alice@example.net', 'maysa66@example.com', 'cnovaes@example.org', 'luiz-miguelda-mota@example.org', 'pcardoso@example.com', 'isadora00@example.net', 'xduarte@example.org', 'da-rosapietro@example.com', 'davi-lucas68@example.com', 'joao-felipelopes@example.net', 'xpires@example.org', 'maria-clara66@example.org', 'barrosisis@example.com', 'emanuelly19@example.com', 'taragao@example.com', 'sda-costa@example.org', 'alexiaoliveira@example.net', 'davi-luiz72@example.com', 'gabrielacampos@example.com', 'kramos@example.com', 'almeidaisabel@example.net', 'benicio37@example.net', 'vitor02@example.com', 'diasfernanda@example.com', 'luigi64@example.net', 'maria-luizaramos@example.org', 'matheus20@example.org', 'miguelvieira@example.com', 'melissa86@example.org', 'davi-lucca99@example.org', 'almeidamaria-luiza@example.com', 'da-rochalorena@example.net', 'salesluana@example.net', 'kamillycostela@example.org', 'nporto@example.com', 'melissaduarte@example.net', 'nataliagoncalves@example.com', 'maria20@example.com', 'isadora91@example.com', 'elopes@example.net', 'wcastro@example.net', 'ida-paz@example.com', 'novaesthiago@example.com', 'noah72@example.org', 'teixeiraraul@example.org', 'pdias@example.net', 'marcos-viniciusbarros@example.com', 'correiafernanda@example.net', 'cjesus@example.org', 'ana-beatriz72@example.org', 'eduarda60@example.com', 'juliamoraes@example.com', 'lopesbenicio@example.org', 'glima@example.net', 'orodrigues@example.net', 'tcardoso@example.net', 'tpeixoto@example.com', 'freitasjoaquim@example.net', 'davidias@example.net', 'helena70@example.net', 'laisramos@example.org', 'stephany32@example.com', 'laispereira@example.net', 'natalia52@example.net', 'ana-luizamoreira@example.org', 'davi-lucas91@example.com', 'stephanycastro@example.net', 'duarteesther@example.net', 'isaac62@example.com', 'emanuelly01@example.com', 'emillyribeiro@example.com', 'maysateixeira@example.com', 'asales@example.org', 'kevin91@example.org', 'nuneselisa@example.com', 'silvajuan@example.com', 'pedro-miguel71@example.net', 'santosluiz-henrique@example.org', 'joao-lucascardoso@example.net', 'ana93@example.com', 'joao-miguelgoncalves@example.org', 'luna09@example.net', 'da-conceicaopaulo@example.com', 'yaragao@example.com', 'augusto59@example.org', 'pcarvalho@example.com', 'benjamin71@example.net', 'pietra76@example.org', 'tda-mota@example.net', 'eduardo59@example.net', 'ferreiraclara@example.com', 'marcelada-cruz@example.org', 'beatrizpires@example.org', 'fcavalcanti@example.com', 'xcosta@example.com', 'jcunha@example.org', 'luiz-fernandomoraes@example.com', 'caiogoncalves@example.org', 'leandrocostela@example.net', 'luiz-felipecavalcanti@example.net', 'fariasamanda@example.org', 'da-luzotavio@example.net', 'camposbeatriz@example.net', 'amanda82@example.com', 'portomanuela@example.org', 'ogoncalves@example.com', 'mariavieira@example.net', 'joao-gabriel98@example.net', 'brendaviana@example.net', 'ribeirojoao-felipe@example.org', 'miguelduarte@example.org', 'salesamanda@example.com', 'augusto22@example.org', 'kevinpinto@example.net', 'ianda-mata@example.org', 'luiz-henrique39@example.com', 'joaoazevedo@example.net', 'lucasvieira@example.com', 'silvaguilherme@example.org', 'nogueiradiego@example.org', 'jalmeida@example.net', 'qbarbosa@example.com', 'nathancostela@example.net', 'rochasophie@example.net', 'ana-carolinacastro@example.com', 'elisanogueira@example.net', 'jesusleticia@example.org', 'vda-costa@example.com', 'pedro38@example.org', 'ribeirohelena@example.org', 'icaldeira@example.net', 'arezende@example.org', 'novaescamila@example.org', 'lmoreira@example.org', 'benjamincastro@example.net', 'mirella69@example.org', 'rebecarezende@example.org', 'benjaminvieira@example.com', 'das-nevesian@example.com', 'gomeskevin@example.net', 'guilherme00@example.org', 'laisnogueira@example.com', 'tviana@example.com', 'yasminda-cunha@example.net', 'sophie73@example.org', 'gribeiro@example.org', 'martinsana-clara@example.net', 'das-nevescalebe@example.org', 'vicentealmeida@example.org', 'dda-mata@example.com', 'ucardoso@example.com', 'vitorpires@example.org', 'souzarenan@example.com', 'cda-costa@example.net', 'ynovaes@example.com', 'da-cunhaagatha@example.com', 'alexia29@example.org', 'ncampos@example.com', 'peixotojuliana@example.net', 'duartemarina@example.org', 'sarah98@example.net', 'larissacorreia@example.org', 'qcunha@example.net', 'jgoncalves@example.com', 'enzo-gabriel99@example.net', 'claricecostela@example.org', 'qmoura@example.org', 'pda-cunha@example.org', 'lcaldeira@example.net', 'fpinto@example.org', 'vianarenan@example.net', 'ecarvalho@example.org', 'andrecardoso@example.com', 'tcarvalho@example.com', 'vieirahenrique@example.net', 'laurada-paz@example.org', 'qalmeida@example.com', 'vitor-gabriel16@example.com', 'kda-luz@example.net', 'maite16@example.net', 'vianaenzo@example.org', 'pmartins@example.com', 'qmoura@example.org', 'pcampos@example.net', 'fernandosilveira@example.com', 'isaac47@example.org', 'lavinia65@example.com', 'da-luzrafael@example.org', 'ksilveira@example.org', 'tmonteiro@example.org', 'esouza@example.org', 'isis57@example.net', 'beatrizda-mota@example.com', 'isales@example.net', 'beatrizcardoso@example.org', 'sda-luz@example.org', 'marinada-rosa@example.com', 'da-conceicaoemanuelly@example.org', 'isabelly47@example.net', 'carolina51@example.com', 'moraeshelena@example.com', 'wjesus@example.net', 'vieiracaroline@example.net', 'aalves@example.com', 'souzabreno@example.org', 'rodrigo83@example.com', 'vianamariana@example.net', 'matheusda-cunha@example.org', 'alana10@example.net', 'nda-luz@example.com', 'raulda-luz@example.com', 'gustavoda-cunha@example.com', 'qferreira@example.net', 'lunasales@example.org', 'tsantos@example.org', 'daragao@example.org', 'heloisa43@example.org', 'matheuspires@example.org', 'claricefarias@example.net', 'da-cunhajoao-lucas@example.net', 'pietra82@example.com', 'ana-laura63@example.com', 'natalia42@example.net', 'barbosapedro-lucas@example.com', 'joao-gabriel40@example.net', 'luiz-gustavosales@example.net', 'enrico92@example.org', 'arthur74@example.net', 'silvaisabel@example.org', 'opereira@example.net', 'ana-juliada-paz@example.com', 'melodiego@example.net', 'enzoporto@example.net', 'lauramoura@example.net', 'ksales@example.org', 'rochamaria@example.com', 'gustavo-henriqueramos@example.net', 'portohenrique@example.net', 'enzo-gabrielnogueira@example.net', 'emanuella20@example.net', 'da-rochagiovanna@example.net', 'rjesus@example.com', 'isaac36@example.org', 'antonio09@example.net', 'felipe48@example.com', 'barbara93@example.com', 'jda-mota@example.net', 'leonardofreitas@example.net', 'pbarbosa@example.net', 'miguelduarte@example.com', 'maria-eduardaalves@example.net', 'gustavo-henrique24@example.com', 'goncalvesmaria-luiza@example.net', 'sda-conceicao@example.net', 'luccamendes@example.net', 'rebecaribeiro@example.com', 'costaigor@example.net', 'alvesenzo@example.com', 'da-cunhaelisa@example.com', 'noah27@example.com', 'oda-costa@example.net', 'clarada-paz@example.net', 'theo12@example.net', 'tjesus@example.net', 'lda-rosa@example.net', 'castroluna@example.org', 'yfernandes@example.org', 'lorenacavalcanti@example.com', 'portolucca@example.com', 'hcardoso@example.org', 'kjesus@example.org', 'fnunes@example.com', 'juanjesus@example.org', 'lgomes@example.org', 'nathan39@example.com', 'raulcunha@example.net', 'diasisabelly@example.org', 'juliasouza@example.org', 'thalesmoura@example.net', 'maria-fernandaaragao@example.com', 'novaesmaria-sophia@example.org', 'isabelly21@example.com', 'alveserick@example.org', 'kalmeida@example.com', 'moreiragabriel@example.com', 'cunhabruno@example.net', 'elisacardoso@example.net', 'afreitas@example.com', 'portohelena@example.net', 'danilo18@example.org', 'ramoskamilly@example.org', 'freitasdavi-lucas@example.org', 'maria-juliaribeiro@example.org', 'felipe39@example.com', 'mariana08@example.com', 'kmonteiro@example.com', 'wfogaca@example.com', 'pintolucas-gabriel@example.com', 'luiz-gustavo84@example.org', 'da-costaalexandre@example.com', 'carolina04@example.net', 'rodriguespedro-miguel@example.net', 'kda-luz@example.org', 'laisdas-neves@example.com', 'rodrigocaldeira@example.net', 'marcelarocha@example.com', 'carvalhoana-sophia@example.org', 'dferreira@example.org', 'sarahda-paz@example.org', 'castrothiago@example.com', 'silveirafelipe@example.net', 'nbarros@example.com', 'pedro-henrique27@example.com', 'carvalhoemanuelly@example.net', 'gomesantonio@example.com', 'da-cruzjulia@example.net', 'alanalopes@example.org', 'gabrielly48@example.net', 'otavio76@example.org', 'rnogueira@example.net', 'gomesyuri@example.net', 'xda-rocha@example.org', 'castronoah@example.org', 'davi-luizda-cruz@example.net', 'hpires@example.net', 'almeidaclarice@example.com', 'nascimentoemilly@example.net', 'emanuel55@example.net', 'da-mataheloisa@example.net', 'vcastro@example.com', 'davi-lucascaldeira@example.org', 'moraesjoao-felipe@example.net', 'samuel00@example.org', 'gviana@example.com', 'lorenamoreira@example.org', 'davi-luiz33@example.com', 'ana-luiza72@example.net', 'davi-lucas65@example.net', 'znascimento@example.org', 'barbara50@example.org', 'sabrinacorreia@example.org', 'das-nevesmatheus@example.com', 'silveiraluna@example.com', 'bianca41@example.com', 'da-costamanuela@example.org', 'cardososarah@example.net', 'heloisa35@example.com', 'lauramoura@example.org', 'lavinia14@example.com', 'joao-felipenogueira@example.org', 'bfernandes@example.com', 'fogacaemilly@example.com', 'kporto@example.com', 'lara66@example.com', 'silveiragabriela@example.com', 'zmoreira@example.org', 'rrezende@example.net', 'moraesbryan@example.net', 'eloahda-mata@example.net', 'yasmin97@example.org', 'pcarvalho@example.org', 'larissa25@example.com', 'caio84@example.org', 'vmelo@example.com', 'da-cunhahenrique@example.org', 'lorenzo45@example.org', 'pintofernando@example.org', 'bda-costa@example.org', 'vianavitor-gabriel@example.net', 'da-cruzmaria-fernanda@example.net', 'lucas-gabriel84@example.com', 'duartejoao-guilherme@example.net', 'ngomes@example.com', 'mpires@example.net', 'miguelsantos@example.com', 'fernandesana-livia@example.net', 'asantos@example.com', 'castrobeatriz@example.net', 'renangoncalves@example.net', 'alice86@example.net', 'da-cunhavitor-hugo@example.org', 'wdias@example.net', 'almeidaenzo-gabriel@example.org', 'milenagomes@example.net', 'lorena55@example.net', 'nunesjuliana@example.org', 'amonteiro@example.com', 'marianada-cruz@example.com', 'carlos-eduardo32@example.com', 'vda-paz@example.net', 'cunhajoao-lucas@example.com', 'davioliveira@example.org', 'oliviateixeira@example.net', 'sofia68@example.net', 'emanuellycavalcanti@example.net', 'carolinealves@example.com', 'leonardocavalcanti@example.net', 'mendesgiovanna@example.net', 'cferreira@example.net'], 'Endereço': ['Pátio de Teixeira, 3\\nSão Damião\\n41661967 Nunes / MT', 'Lagoa Moreira, 6\\nJardim Do Vale\\n10525-565 Santos da Mata / SE', 'Feira de da Costa, 88\\nCalafate\\n37260-662 Teixeira / PB', 'Setor Carolina Rocha\\nFrei Leopoldo\\n17036-324 Dias / DF', 'Parque Vitor Gabriel da Conceição, 279\\nNossa Senhora Do Rosário\\n51331048 Correia / MG', 'Lago Daniel Martins, 58\\nBetânia\\n43087134 Sales / GO', 'Praça Gonçalves, 18\\nAparecida 7ª Seção\\n85274-175 Rezende / PI', 'Sítio Luiza Gonçalves, 96\\nVila Copasa\\n82826383 Martins Alegre / PR', 'Passarela Clara Silva, 105\\nSanta Rita\\n62703-524 Rezende / RR', 'Chácara da Rocha, 661\\nVila Nova Gameleira 2ª Seção\\n10236-623 Rezende do Amparo / PA', 'Vila Porto\\nJardim América\\n06677-815 Melo / RJ', 'Feira Cunha, 52\\nFloresta\\n65684880 Alves Verde / RN', 'Trevo Thiago Rezende, 14\\nJardinópolis\\n15602-873 Souza do Galho / PR', 'Largo Rafael Lima, 60\\nSenhor Dos Passos\\n69226-576 Nunes da Serra / AP', 'Lagoa Dias, 46\\nVila São Gabriel\\n07108322 Ferreira / MA', 'Praia Marcelo Rezende, 21\\nSão Vicente\\n43309983 Barros de Cavalcanti / RJ', 'Setor Melo, 595\\nGlória\\n10628-321 Monteiro / MT', 'Setor Campos, 47\\nVila Fumec\\n12511-179 Barros Grande / TO', 'Pátio Eduarda Gomes, 8\\nMilionario\\n78159999 Nunes Verde / PE', 'Núcleo Vitória Martins, 861\\nCinquentenário\\n95247101 Correia / MA', 'Viela Renan Ramos, 550\\nSolimoes\\n96293140 Rezende / PR', 'Sítio de Ribeiro, 83\\nVila Nova Gameleira 2ª Seção\\n02092-587 Caldeira da Mata / PE', 'Área Maria Barros, 766\\nJardim Alvorada\\n58688138 da Cunha / AP', 'Campo de Monteiro, 31\\nSanto Agostinho\\n19386-711 Rodrigues / AP', 'Morro Daniel Correia, 49\\nVale Do Jatoba\\n09469-664 Sales de da Cunha / RR', 'Sítio Ana Sophia Gomes, 85\\nMangueiras\\n28861253 Rezende Verde / SP', 'Passarela Ferreira, 91\\nLourdes\\n78526545 Campos / RJ', 'Ladeira de da Mata, 23\\nJuliana\\n02789424 Souza de Jesus / RS', 'Favela Oliveira, 512\\nBandeirantes\\n95392-423 Lopes / PA', 'Condomínio de Carvalho, 31\\nTúnel De Ibirité\\n51102423 Costa / BA', 'Campo de Ramos, 73\\nJardim Leblon\\n74266383 Rezende / MG', 'Chácara Rocha, 49\\nEstrela\\n47454-985 Porto do Norte / PB', 'Colônia de Castro\\nNova Cintra\\n52786104 da Cruz do Sul / MT', 'Lagoa da Mata, 442\\nSão Bento\\n69931548 Campos / MA', 'Fazenda Luiz Miguel Alves, 208\\nVila Suzana Segunda Seção\\n07053066 Cunha / RS', 'Morro Erick Gonçalves, 27\\nCidade Nova\\n08521-544 Teixeira / BA', 'Feira Moreira, 72\\nInconfidência\\n22420-844 Campos da Prata / RJ', 'Lagoa Ana Vitória Ramos\\nCarlos Prates\\n12993-937 Peixoto / RN', 'Fazenda de Caldeira, 13\\nVila Nova Gameleira 1ª Seção\\n59621-169 Silveira das Flores / SC', 'Viela de Costela, 40\\nInconfidência\\n58225133 Porto do Norte / CE', 'Residencial Nunes, 811\\nNovo Das Industrias\\n63239185 da Mata / MT', 'Recanto da Cruz, 9\\nXangri-Lá\\n55290-041 Azevedo Verde / PR', 'Campo de Rocha, 725\\nVista Do Sol\\n64287-169 das Neves / MA', 'Rua Barbosa, 87\\nDelta\\n49759-791 Rodrigues do Campo / TO', 'Loteamento Gomes\\nVila Santa Monica 2ª Seção\\n32577-441 Santos / RS', 'Trevo das Neves, 9\\nHorto Florestal\\n55987487 Costela Paulista / RO', 'Passarela Monteiro\\nAntonio Ribeiro De Abreu 1ª Seção\\n43241-390 Teixeira Grande / SP', 'Ladeira Nascimento, 73\\nVila Paraíso\\n75242067 Martins dos Dourados / RR', 'Rodovia de Martins, 470\\nCustodinha\\n13253878 Farias / SC', 'Área de Alves, 67\\nVila Sesc\\n05410-992 Moura / ES', 'Feira da Paz, 214\\nTres Marias\\n82864846 da Cruz / BA', 'Quadra de Melo, 40\\nPrado\\n13559118 Freitas / PA', 'Praça Pires, 78\\nVale Do Jatoba\\n06805-689 Nogueira / TO', 'Praça de Nogueira, 689\\nVila De Sá\\n98418287 Dias / SP', 'Núcleo Vitor Gabriel Nogueira, 37\\nLajedo\\n79781-941 da Cruz Paulista / AM', 'Estação Moura, 260\\nCanadá\\n11185-423 Ramos do Oeste / RN', 'Morro Sales, 93\\nSão Jorge 2ª Seção\\n83693880 Barros da Praia / PR', 'Distrito Fogaça, 76\\nConjunto Capitão Eduardo\\n65597122 Novaes de Cardoso / CE', 'Praia Agatha Porto, 9\\nCaiçara - Adelaide\\n02107-413 Dias da Mata / MT', 'Praia Samuel Barbosa\\nVila São Gabriel Jacui\\n72644-085 Nogueira / RR', 'Alameda Vitor Aragão\\nSão Salvador\\n69683-529 Castro / AP', 'Pátio Ana Carolina Cardoso, 41\\nPrado\\n09846-044 Fogaça / CE', 'Travessa Bianca da Luz\\nConfisco\\n36392-265 Ferreira da Praia / MG', 'Praça Milena Vieira, 1\\nMaravilha\\n65059-413 Melo / RJ', 'Vereda de Pereira\\nMaravilha\\n12394-529 Moreira / PR', 'Favela Beatriz da Mata, 672\\nVila Califórnia\\n42986742 Lima / MA', 'Passarela Leonardo da Rocha\\nCoração Eucarístico\\n58395-537 Mendes de da Cunha / AM', 'Passarela de Castro, 754\\nPompéia\\n41220265 Nunes / RN', 'Aeroporto de Vieira, 56\\nVila São Gabriel\\n39363-456 Freitas / AP', 'Lagoa João Lucas Cunha, 80\\nCachoeirinha\\n78349497 Campos Paulista / RN', 'Ladeira Farias, 31\\nJardim São José\\n17743-054 Lopes da Praia / AC', 'Esplanada Carvalho, 879\\nConjunto Novo Dom Bosco\\n37787534 Novaes / SP', 'Campo Jesus, 411\\nVila Nova\\n77453327 Martins do Oeste / CE', 'Quadra de Farias, 76\\nSão Cristóvão\\n67015022 Cardoso da Mata / MA', 'Lagoa Marcos Vinicius Silveira, 80\\nConjunto Providencia\\n35036281 Araújo das Pedras / PR', 'Sítio de Pereira, 947\\nPalmares\\n27317-511 Campos / RN', 'Via Vitor Hugo Cardoso\\nBernadete\\n60800-339 Moreira / TO', 'Passarela de Rocha\\nOlaria\\n19649-869 Oliveira / AC', 'Núcleo Porto, 911\\nÁlvaro Camargos\\n30432909 da Cruz das Flores / AL', 'Distrito Cavalcanti, 39\\nMarilandia\\n14621443 Silveira / MT', 'Loteamento Duarte\\nNossa Senhora De Fátima\\n92297-639 Viana / RO', 'Feira de Barbosa, 2\\nVista Alegre\\n65568-218 Melo / ES', 'Campo Moraes, 36\\nErmelinda\\n68223189 Cavalcanti do Oeste / PR', 'Chácara Novaes, 703\\nNova Cintra\\n18472-203 Ferreira / MS', 'Setor de da Rocha, 621\\nVila Maloca\\n06790-679 Ribeiro do Campo / RO', 'Estação de da Conceição, 6\\nConjunto Celso Machado\\n65016-096 Fogaça de Goiás / RJ', 'Alameda de Moreira, 24\\nSão Benedito\\n54357019 Nascimento da Mata / PE', 'Lago de das Neves\\nVila Aeroporto\\n70167-433 Moreira Grande / PR', 'Passarela Ramos, 48\\nSão Jorge 1ª Seção\\n26026-871 da Cruz de Duarte / RO', 'Aeroporto Rezende\\nJardim Vitoria\\n38956-057 da Mata de Ribeiro / ES', 'Largo da Cruz, 2\\nAlto Vera Cruz\\n91259-666 Barbosa de da Rocha / MS', 'Passarela de Ferreira, 55\\nHeliopolis\\n40154680 Lopes da Mata / MT', 'Fazenda Laura da Paz, 49\\nPalmares\\n97826-525 Silveira Paulista / AP', 'Colônia de Cardoso, 89\\nVirgínia\\n43378-857 da Rocha / RN', 'Quadra Rocha, 67\\nVila Santa Monica 1ª Seção\\n07610961 Cavalcanti de Aragão / TO', 'Campo Nunes, 9\\nJoão Paulo Ii\\n00212946 Almeida do Norte / SE', 'Trevo Barros\\nJuliana\\n19367453 Moraes de Nascimento / GO', 'Colônia da Cunha\\nBoa União 2ª Seção\\n82837-168 Ferreira do Oeste / PB', 'Rodovia de Nascimento, 27\\nGraça\\n79456486 Almeida do Amparo / RO', 'Chácara de Moreira, 3\\nNovo Das Industrias\\n11707-279 Rocha / GO', 'Residencial de Vieira, 85\\nMarieta 2ª Seção\\n92949550 da Luz / AM', 'Residencial Theo Farias, 14\\nCenaculo\\n44549-973 Rezende / PR', 'Travessa Martins, 162\\nMadri\\n44078-942 Azevedo / MS', 'Praia Cavalcanti\\nErmelinda\\n11407322 Fogaça do Oeste / RS', 'Avenida Porto, 31\\nNova Vista\\n74651-826 Nunes de Minas / PE', 'Passarela Lima, 86\\nVenda Nova\\n82835211 Nogueira do Oeste / AC', 'Avenida Correia, 16\\nMiramar\\n48566345 Correia da Prata / RS', 'Conjunto Benjamin Gomes, 6\\nMariano De Abreu\\n32159965 Melo dos Dourados / SE', 'Fazenda de Silva, 85\\nVila Engenho Nogueira\\n42497-604 Moura / RR', 'Sítio Brenda Silveira, 4\\nSão Paulo\\n75035-610 Martins do Galho / CE', 'Loteamento Pires, 7\\nBonfim\\n94258-361 Porto Paulista / GO', 'Sítio de Costela, 23\\nVila Jardim Leblon\\n53624198 das Neves / PA', 'Passarela de Cavalcanti, 18\\nZilah Sposito\\n99016-492 Almeida / RR', 'Favela de Barbosa, 190\\nGutierrez\\n41372-371 Lopes / BA', 'Praça de Gomes\\nBuritis\\n45099-030 Gomes / AM', 'Colônia de Moraes, 65\\nSão Gabriel\\n40731969 Cunha / TO', 'Pátio de Moura, 4\\nAlto Barroca\\n69248111 Cunha de Cavalcanti / PE', 'Trecho de da Paz\\nOutro\\n78619758 Rezende / RJ', 'Conjunto de Moraes, 5\\nMonte São José\\n48184243 Costela / GO', 'Sítio João Lucas Cunha, 862\\nVila Novo São Lucas\\n84572590 Rocha dos Dourados / PA', 'Sítio de Nogueira, 1\\nMaravilha\\n97894-913 Melo de Rocha / SP', 'Lago Breno Rodrigues, 59\\nConjunto Jatoba\\n36316780 Viana de Barbosa / MS', 'Avenida Emanuella Souza, 1\\nBonfim\\n53667-818 Santos de Minas / PA', 'Aeroporto Arthur da Mota\\nVitoria\\n24136438 da Costa / MT', 'Residencial de Gonçalves, 737\\nPousada Santo Antonio\\n84897511 Costa / PI', 'Condomínio de da Rosa, 818\\nTiradentes\\n83771-298 Correia / MS', 'Jardim Nicole Pires, 116\\nVila Antena\\n91357-253 Monteiro de Gonçalves / MA', 'Aeroporto Maria Eduarda Santos, 1\\nChácara Leonina\\n56895-085 Teixeira / RS', 'Pátio Carvalho, 45\\nVila Da Amizade\\n64317789 da Cunha Verde / AL', 'Favela Rocha, 98\\nCônego Pinheiro 1ª Seção\\n72055-840 Caldeira de Pires / AL', 'Ladeira de Gomes, 6\\nNova Suíça\\n18967-018 Mendes / AP', 'Vale de Nunes, 2\\nPaulo Vi\\n69659026 Melo / PE', 'Morro da Rocha, 69\\nSanto André\\n16355377 Martins / RO', 'Residencial Francisco Novaes, 40\\nConjunto Capitão Eduardo\\n13802051 das Neves / PR', 'Aeroporto de da Cunha, 18\\nMaravilha\\n84386-016 Cunha do Campo / DF', 'Loteamento Elisa Viana, 80\\nCidade Nova\\n32473201 Lopes / GO', 'Trevo de Gomes, 35\\nXangri-Lá\\n06998935 Duarte do Galho / GO', 'Vereda de Aragão, 41\\nVila Santa Rosa\\n20748851 Monteiro / DF', 'Pátio Porto\\nBaleia\\n60292-314 Pinto de Alves / GO', 'Lagoa da Cruz, 93\\nZilah Sposito\\n80611031 Barbosa / MS', 'Avenida Maitê Silva, 9\\nVila Pinho\\n67340584 da Cunha da Praia / PA', 'Núcleo Santos, 352\\nTirol\\n76530-694 Fernandes das Pedras / PE', 'Núcleo de Pires, 63\\nAlto Das Antenas\\n75492421 da Conceição do Galho / PB', 'Praia Pietro Fernandes, 15\\nVila São Francisco\\n37287781 Araújo / AP', 'Trevo de Ribeiro, 124\\nCardoso\\n87086605 Moreira de Minas / SE', 'Rodovia Manuela da Luz, 35\\nSão Vicente\\n96567113 Cunha / AL', 'Alameda de Cavalcanti, 24\\nSport Club\\n76257-441 Aragão / MS', 'Vila da Cruz, 251\\nVila Oeste\\n47315222 Lopes de Araújo / RS', 'Rua Souza, 41\\nCastelo\\n69005-272 Farias / PA', 'Quadra de Caldeira, 23\\nVila Paris\\n32184-111 Costela / AC', 'Praça de da Mata, 37\\nGranja Werneck\\n33149996 Aragão de Lopes / ES', 'Fazenda Martins, 55\\nSão Jorge 3ª Seção\\n37536978 Cardoso / PA', 'Recanto Ana Júlia Souza, 36\\nSanta Cruz\\n61195982 Campos / MS', 'Fazenda Marina Souza, 569\\nSanta Cruz\\n16539819 Nunes Alegre / PR', 'Praça Nunes\\nCalifórnia\\n08507443 Porto Paulista / RJ', 'Campo Augusto Peixoto, 726\\nParque São Pedro\\n28337033 Barbosa / PB', 'Distrito Porto, 831\\nCoração Eucarístico\\n95630-431 Campos das Pedras / AM', 'Parque Miguel Rodrigues, 59\\nSanta Inês\\n77348-979 Cardoso de Minas / RO', 'Rodovia de Silva, 4\\nVila Califórnia\\n81959710 Peixoto / AL', 'Fazenda de Cardoso, 870\\nPaulo Vi\\n57359-011 Pires / MS', 'Núcleo Cavalcanti, 28\\nCoração De Jesus\\n67677-149 Fernandes do Galho / AP', 'Trecho Nascimento, 11\\nNova Cachoeirinha\\n89267886 Ramos / MT', 'Rua Cecília Cavalcanti, 74\\nSanta Efigênia\\n22052-468 Melo / AM', 'Parque Viana\\nVila Copacabana\\n98325-283 Correia / MT', 'Conjunto Ana Beatriz Moreira\\nLeticia\\n33754322 da Conceição / RO', 'Trevo de da Rosa, 87\\nSão Jorge 3ª Seção\\n31036-385 Santos da Serra / SP', 'Área Lucas Costa\\nErmelinda\\n81456776 Rodrigues de Cardoso / RR', 'Sítio Maria Lopes, 393\\nVila Da Amizade\\n47348341 Silveira de Silva / RO', 'Campo de Nunes\\nOuro Minas\\n72595-666 Mendes do Sul / MT', 'Aeroporto Azevedo, 12\\nCidade Jardim\\n29743922 Silveira / RR', 'Praia de da Mota, 10\\nCapitão Eduardo\\n82521732 Costa / RO', 'Aeroporto Luna da Rocha\\nSanta Lúcia\\n77229397 Souza Verde / PR', 'Pátio Rocha, 65\\nNova America\\n84080287 Correia de da Conceição / DF', 'Via Caldeira, 81\\nVila Paraíso\\n50540586 Araújo / PI', 'Quadra Novaes\\nErmelinda\\n15604463 Ribeiro / MG', 'Jardim Lara Lima, 6\\nFernão Dias\\n70366088 Sales de Azevedo / BA', 'Rodovia de Cunha, 908\\nEymard\\n60086-062 Moreira do Galho / RN', 'Colônia de Ferreira, 148\\nVila Bandeirantes\\n95089708 Ferreira / RS', 'Trecho Pinto, 689\\nLagoa\\n32245839 Rodrigues / MT', 'Via de Rodrigues\\nVila De Sá\\n61570-288 Monteiro do Campo / AM', 'Feira da Rocha, 919\\nItapoa\\n28739580 Nascimento / MA', 'Colônia Oliveira, 4\\nAlto Caiçaras\\n90171-034 Santos de Barros / ES', 'Conjunto de Ribeiro, 36\\nTupi B\\n50117042 da Luz / RR', 'Fazenda Luiz Felipe Souza, 2\\nPompéia\\n77565547 Teixeira do Galho / CE', 'Vale Ryan da Rosa, 67\\nMaravilha\\n89644-899 Azevedo / ES', 'Ladeira Carvalho, 62\\nMantiqueira\\n12443415 Viana / MT', 'Ladeira Gonçalves\\nGarças\\n51129-452 Castro / RS', 'Parque de da Conceição, 641\\nCoração De Jesus\\n65843894 Almeida dos Dourados / ES', 'Estrada Correia, 1\\nVila Copacabana\\n42720-863 Melo de Rezende / RJ', 'Loteamento Cecília Fernandes, 10\\nErmelinda\\n68783-520 Carvalho / SP', 'Vila Viana, 3\\nMaria Tereza\\n24404-488 Gonçalves / CE', 'Avenida de Moreira, 89\\nDona Clara\\n58363376 Novaes dos Dourados / PB', 'Sítio da Rosa, 65\\nPompéia\\n34234-096 Cardoso Verde / PB', 'Morro de Almeida, 851\\nVila São Paulo\\n44550-942 Nunes de Minas / RO', 'Via Viana, 98\\nCônego Pinheiro 1ª Seção\\n26372747 Cardoso / PB', 'Praia Caldeira, 92\\nCenaculo\\n84382-738 da Rosa / DF', 'Distrito João Guilherme Rodrigues, 83\\nAmbrosina\\n04783-015 da Costa Paulista / AL', 'Fazenda de da Mota, 54\\nBoa Vista\\n26527121 Rodrigues Grande / RS', 'Residencial Luiz Gustavo da Rocha, 67\\nVila Jardim Montanhes\\n99621-904 Ferreira / RN', 'Avenida de Nascimento, 627\\nSanto Agostinho\\n35201963 Gomes de Nogueira / MA', 'Favela Ribeiro, 63\\nVila São Dimas\\n58087-824 Oliveira / PE', 'Ladeira Cavalcanti, 88\\nCidade Nova\\n13215813 Farias / SP', 'Condomínio de da Rosa, 962\\nSanta Maria\\n94310233 Porto do Campo / AL', 'Fazenda Santos, 15\\nSanta Sofia\\n03656373 Lopes de Moraes / PB', 'Ladeira de da Rocha, 97\\nBom Jesus\\n93364-201 Barbosa / RR', 'Rua de da Mota, 93\\nSão Luiz\\n79504193 Ramos Alegre / AP', 'Conjunto Monteiro\\nConfisco\\n89448184 Gonçalves do Amparo / GO', 'Campo Miguel Oliveira, 273\\nLeticia\\n61605-921 Freitas do Oeste / RN', 'Lago de da Paz, 97\\nMaria Helena\\n15404-337 da Rocha / TO', 'Jardim de Melo, 29\\nTres Marias\\n12506029 Cardoso / RJ', 'Vila Moura\\nSão João\\n68777143 Nascimento do Campo / SP', 'Jardim Noah Gonçalves, 83\\nJoão Alfredo\\n68942-877 Moreira da Prata / PE', 'Trevo Maria Eduarda da Mata, 91\\nParaíso\\n86120780 Castro / PB', 'Trevo Gonçalves, 47\\nLeonina\\n29023627 Ferreira Paulista / RR', 'Passarela de Jesus, 9\\nParque São Pedro\\n14853714 Nascimento / ES', 'Aeroporto Castro, 58\\nEtelvina Carneiro\\n18635-746 Gomes Alegre / RS', 'Lago de Souza\\nCidade Jardim\\n61438654 Barbosa / SE', 'Vereda de Pinto, 26\\nManacas\\n36204-305 da Luz de Minas / RS', 'Distrito Teixeira\\nLagoinha\\n31321-128 Rezende Paulista / SC', 'Fazenda Campos, 11\\nMariano De Abreu\\n37428295 Correia de Goiás / RJ', 'Distrito da Mota, 12\\nTupi A\\n79454798 Moraes das Flores / BA', 'Residencial da Cruz, 89\\nCabana Do Pai Tomás\\n43618-076 Pires do Galho / MT', 'Viela Danilo Costa, 395\\nBoa União 2ª Seção\\n92122526 Nunes de Santos / AM', 'Viaduto de Teixeira, 63\\nVila São Rafael\\n26843-268 Caldeira / MT', 'Rodovia Noah Monteiro, 79\\nVila União\\n47508-188 Azevedo / MA', 'Esplanada Pires, 4\\nTúnel De Ibirité\\n12289-797 Rezende / MA', 'Travessa Leandro Araújo, 23\\nNovo Aarão Reis\\n93115699 Ferreira / RN', 'Aeroporto Nogueira, 39\\nVila Pilar\\n58512-975 Fogaça / ES', 'Campo de Mendes, 56\\nSão Francisco Das Chagas\\n29110-037 Barbosa / MS', 'Lagoa Ana Martins, 58\\nSão Paulo\\n89171483 Monteiro / AM', 'Feira de Pereira\\nVitoria\\n33751-279 Barbosa / MA', 'Praia Fernando da Paz, 62\\nLourdes\\n98041-848 Almeida da Praia / MA', 'Pátio Fernandes, 410\\nCoração Eucarístico\\n45747-528 Nascimento / SP', 'Largo Moura, 94\\nManacas\\n60856111 Campos da Mata / PE', 'Núcleo Fogaça\\nCastanheira\\n49442-154 Martins do Galho / PE', 'Estrada de da Mata, 58\\nNovo Aarão Reis\\n91486106 Nogueira do Amparo / SP', 'Rua Rodrigues, 87\\nManacas\\n51254586 Duarte / RN', 'Feira Melo, 10\\nPilar\\n58357-257 Ferreira / DF', 'Praia de Sales, 5\\nSão Marcos\\n70900844 da Conceição / MA', 'Favela da Costa, 99\\nCaiçara - Adelaide\\n57831925 Novaes do Oeste / RO', 'Largo Nascimento, 8\\nNovo Ouro Preto\\n25410-548 Rezende de Fernandes / RN', 'Ladeira Ribeiro, 51\\nCustodinha\\n69909-047 da Paz do Campo / PI', 'Rua de Freitas, 90\\nVila Nova Cachoeirinha 2ª Seção\\n46711553 Ribeiro Alegre / AP', 'Aeroporto Carlos Eduardo Pinto, 34\\nMinaslandia\\n78054-659 Fogaça do Oeste / RN', 'Fazenda da Conceição, 22\\nVila Formosa\\n26630-654 Silva do Norte / MS', 'Trecho Júlia Almeida, 4\\nConjunto Jardim Filadélfia\\n09222151 Gomes / MG', 'Parque Pedro Lucas da Conceição, 716\\nSão Jorge 1ª Seção\\n28072-796 da Luz / SP', 'Rodovia Caldeira, 35\\nJardim América\\n48014598 Moreira / AL', 'Morro Pires\\nVila Ipiranga\\n25972137 Sales / PI', 'Campo Cardoso, 63\\nPedreira Padro Lopes\\n03399030 Sales da Mata / PI', 'Feira Alana da Rocha\\nDas Industrias I\\n59493864 Moraes de Jesus / MT', 'Via Yago Sales, 87\\nCapitão Eduardo\\n06041-699 Cardoso da Serra / PB', 'Favela Lara da Mata\\nMirante\\n29504-142 Ramos Alegre / RJ', 'Área de Araújo, 16\\nEtelvina Carneiro\\n08454304 Jesus / AC', 'Residencial de da Rocha, 78\\nMangueiras\\n13797862 Ferreira / RJ', 'Aeroporto Caldeira, 90\\nLorena\\n04175-065 Vieira / RN', 'Aeroporto Porto, 24\\nVirgínia\\n98700436 Ribeiro / SC', 'Colônia Lucas Gabriel Oliveira, 15\\nParaíso\\n43712173 Teixeira / PR', 'Favela de Porto, 171\\nJardim São José\\n05212888 Novaes de Gonçalves / MA', 'Aeroporto Oliveira, 70\\nFloresta\\n85826254 Lima de Monteiro / GO', 'Passarela Arthur Rocha, 11\\nMadri\\n52978816 Campos / AL', 'Condomínio Mendes, 40\\nVila São João Batista\\n82448-770 Lima / PR', 'Ladeira Sophia Moura, 71\\nConjunto Bonsucesso\\n31637451 Cardoso de Alves / CE', 'Distrito de Silva, 52\\nSanta Branca\\n46734-094 Moraes das Flores / ES', 'Ladeira Calebe Nunes, 85\\nJardim Atlântico\\n54089-060 Jesus / PR', 'Praça Farias, 439\\nSanta Helena\\n42474315 Pires / AC', 'Rodovia de Ribeiro\\nSilveira\\n69096937 Lopes / AC', 'Setor Felipe Teixeira, 32\\nAraguaia\\n51588-173 Sales das Pedras / CE', 'Fazenda Olivia Cardoso, 38\\nGrota\\n68401-684 Duarte do Sul / TO', 'Trecho de da Mata, 271\\nVila Formosa\\n59118-711 Teixeira / PR', 'Colônia Yuri Farias, 40\\nAntonio Ribeiro De Abreu 1ª Seção\\n30766153 Mendes / RO', 'Lagoa Santos, 14\\nSanta Rita\\n80663-698 Sales da Praia / CE', 'Vale Pires, 61\\nVila Aeroporto\\n94762957 Monteiro / MT', 'Estrada de Jesus, 95\\nVila Cemig\\n13751190 Ramos Paulista / RN', 'Feira Jesus, 7\\nSão João\\n55424-864 Moura Alegre / PE', 'Conjunto Gustavo Henrique Farias, 21\\nSanta Sofia\\n76853-930 Costa / PR', 'Residencial de Nascimento, 111\\nVila Madre Gertrudes 1ª Seção\\n73143-991 Rocha / GO', 'Distrito Maria Fernanda Gonçalves, 30\\nMariano De Abreu\\n28967609 Novaes da Prata / RS', 'Avenida Nicolas Martins, 38\\nSenhor Dos Passos\\n85654065 Farias Paulista / CE', 'Avenida Sofia Fernandes, 65\\nSanta Branca\\n51902229 Rezende de Azevedo / AC', 'Colônia Lucas Gabriel da Mota, 99\\nVila Paquetá\\n15750-970 Peixoto / RS', 'Vila de Caldeira\\nNova Suíça\\n62942-592 Nunes do Oeste / RS', 'Trecho Bárbara Nogueira, 80\\nJardim Guanabara\\n97309577 Barbosa do Campo / ES', 'Rua Cardoso\\nApolonia\\n68114-157 Duarte de Oliveira / AP', 'Parque Barros\\nJaraguá\\n96907-241 Santos / AC', 'Núcleo de Fogaça, 37\\nHavaí\\n18625623 Azevedo do Galho / BA', 'Área Monteiro, 602\\nVila Formosa\\n05401-123 Moraes / SP', 'Jardim de Caldeira\\nTaquaril\\n06901946 da Rosa / MG', 'Jardim Melo\\nBarroca\\n47725467 Pires das Pedras / RO', 'Via Nicole Silva, 8\\nVila Betânia\\n45055-418 Moraes Paulista / AP', 'Vereda de Souza, 950\\nAguas Claras\\n33471-396 Moreira / RO', 'Quadra de Aragão, 52\\nPrado\\n29825399 Moraes / AC', 'Viela Carvalho, 1\\nCaiçaras\\n02650488 Dias / MS', 'Sítio Emanuelly Ribeiro, 90\\nAdemar Maldonado\\n67754270 Fogaça de Ramos / AL', 'Vale Ribeiro\\nVila Nova Gameleira 1ª Seção\\n63533140 Rezende / MT', 'Largo Brenda Santos\\nCaetano Furquim\\n07323078 Jesus / PR', 'Distrito de Sales, 8\\nSanta Rita\\n23236-683 Pereira Grande / RR', 'Jardim Theo Pereira, 33\\nJardim Dos Comerciarios\\n23958-387 Ribeiro dos Dourados / AP', 'Núcleo de Lima, 91\\nSanta Isabel\\n77843415 Nascimento / ES', 'Lagoa de Pereira, 35\\nAparecida\\n29480870 Ribeiro / AL', 'Vila Nina da Cunha, 99\\nAparecida\\n41484-743 Ramos de Ferreira / TO', 'Trevo Almeida, 380\\nBoa Vista\\n16371630 Novaes da Mata / RN', 'Jardim Enrico Fernandes\\nVirgínia\\n73356-967 da Mata Grande / SE', 'Conjunto Maria Cecília Barros, 649\\nJardim Guanabara\\n27343-729 Correia / RS', 'Parque de Fogaça, 7\\nMadri\\n42414-224 Nunes / AL', 'Lago de da Conceição, 34\\nAlto Barroca\\n74516-189 Oliveira da Mata / TO', 'Morro Joaquim Azevedo, 1\\nPindorama\\n66565-422 Novaes do Campo / MS', 'Favela Lorena Rezende, 43\\nCamponesa 1ª Seção\\n45754199 Alves / SC', 'Vereda Aragão\\nIndependência\\n25396044 da Luz / MS', 'Condomínio Ana Júlia Ramos, 21\\nMirante\\n13565765 Araújo / BA', 'Estrada de da Cunha\\nGarças\\n01251538 Moura / RN', 'Área Agatha Farias, 12\\nConjunto Minas Caixa\\n99816792 Moreira das Pedras / GO', 'Passarela Azevedo, 18\\nMineirão\\n57340-067 Cardoso / MT', 'Trevo de Moraes, 8\\nVila Nova Paraíso\\n58259163 Costa da Mata / PR', 'Vale Vitor Gabriel Pinto, 32\\nMaria Goretti\\n58726-632 Farias de Gonçalves / PA', 'Via Helena Fernandes, 3\\nUniversitário\\n08431930 Costa / MA', 'Passarela Letícia Moraes, 52\\nMarçola\\n41918-670 Barros / RR', 'Rua Raul Caldeira, 6\\nVila São Paulo\\n09988-421 Rocha / RJ', 'Quadra de Gonçalves, 15\\nSão João Batista\\n82975566 Fogaça / MT', 'Chácara de Cardoso, 11\\nVila São João Batista\\n56912803 Dias / PE', 'Viela Levi Souza, 97\\nCandelaria\\n66522869 Oliveira / DF', 'Vila Souza\\nVila Antena Montanhês\\n25899-300 Alves Grande / AL', 'Alameda da Conceição, 15\\nJardim Montanhês\\n45540312 Gonçalves / TO', 'Quadra Dias, 95\\nSão Jorge 3ª Seção\\n31942951 da Luz Grande / MT', 'Viela Maria Sophia da Paz, 51\\nMinas Caixa\\n79804964 Souza / RN', 'Avenida Porto, 16\\nVila São João Batista\\n68364-555 Rodrigues do Norte / AL', 'Lagoa Fogaça, 55\\nSão Luiz\\n35784658 Freitas / SE', 'Largo de Nogueira, 94\\nPilar\\n71798624 Fernandes / TO', 'Conjunto de Farias, 65\\nPlanalto\\n52542-618 Lima de Melo / GO', 'Campo de Moura, 41\\nVitoria Da Conquista\\n82080990 Viana de Silva / AC', 'Parque Azevedo, 30\\nPompéia\\n74383-248 Rezende de Lopes / RN', 'Esplanada Lucas da Paz, 22\\nBelmonte\\n17114562 Nogueira do Campo / RO', 'Sítio de da Costa, 81\\nVarzea Da Palma\\n47022-928 Fernandes / AL', 'Travessa Carolina Oliveira, 50\\nVila Paraíso\\n07707032 Rodrigues / PI', 'Fazenda Ana Lívia Peixoto, 55\\nVila Independencia 1ª Seção\\n69348-416 Aragão / DF', 'Rua Rocha, 392\\nVila Petropolis\\n55764-968 Nunes do Galho / ES', 'Travessa da Rosa, 740\\nSão João\\n85152028 Moura / AC', 'Jardim Moreira, 22\\nVila Cloris\\n58651241 Costela Grande / RJ', 'Passarela Eloah Campos\\nIndependência\\n80675235 Lopes do Oeste / TO', 'Condomínio de Gonçalves\\nSanto Antônio\\n61618-626 da Luz / TO', 'Largo Ana Clara Fogaça, 27\\nUniversitário\\n38331265 Ribeiro / MT', 'Pátio Francisco Nogueira\\nCidade Jardim Taquaril\\n35050840 da Rosa / TO', 'Trecho de da Mata, 950\\nMala E Cuia\\n80588-301 Campos da Praia / TO', 'Parque João Dias, 66\\nSatelite\\n48802-932 da Mota / PR', 'Rodovia Maysa Monteiro, 699\\nVila Mangueiras\\n51474-736 Lopes / CE', 'Condomínio Maria Julia Oliveira, 169\\nPadre Eustáquio\\n09827060 Azevedo das Pedras / ES', 'Colônia Silva, 5\\nBoa Vista\\n64880-494 Moraes de Gonçalves / DF', 'Campo Ana Sophia Moura, 14\\nEstoril\\n89932507 Cunha de Goiás / MA', 'Rua Thomas Gonçalves, 40\\nMarajó\\n04806972 Cunha da Mata / SP', 'Conjunto Elisa Teixeira\\nSport Club\\n49462-381 da Conceição / AL', 'Chácara de Cardoso, 58\\nNova Suíça\\n56523640 Gomes / RS', 'Chácara de Alves, 39\\nPilar\\n65590-684 da Cunha / RO', 'Ladeira João Miguel Silva, 18\\nMaravilha\\n62320-885 da Mota / PE', 'Área Moura\\nSanta Cruz\\n47819577 Viana de Minas / GO', 'Estação de Lima, 99\\nBetânia\\n37339-704 Rezende Verde / PB', 'Sítio Isadora da Luz, 5\\nEsperança\\n21727-546 da Cruz / DF', 'Largo de da Rocha, 40\\nVila Jardim Leblon\\n00930752 Caldeira / BA', 'Largo Monteiro, 53\\nSão Tomaz\\n78486609 da Mata de Ribeiro / MT', 'Lagoa Jesus, 61\\nSolimoes\\n29951-508 Alves / PI', 'Estação Bárbara Silva, 82\\nNova Pampulha\\n29257106 Martins de da Cunha / AP', 'Esplanada Vieira, 70\\nErnesto Nascimento\\n33666925 Barros do Norte / PR', 'Aeroporto Peixoto, 8\\nLeticia\\n72664906 Gonçalves de Cavalcanti / RN', 'Praça Cavalcanti, 9\\nBiquinhas\\n34984822 Moraes / DF', 'Morro de Pires, 64\\nSão Vicente\\n87799543 Cardoso / RN', 'Viela das Neves\\nLagoinha\\n32390-367 da Mata das Flores / PA', 'Pátio de Pereira\\nLagoinha\\n12166683 Freitas de Monteiro / PB', 'Largo Gomes, 24\\nMonte São José\\n01765638 Dias do Sul / MT', 'Rua Daniela Pinto, 83\\nSanta Efigênia\\n60631552 Dias / PR', 'Lago Farias, 35\\nMarilandia\\n72724818 Cunha do Campo / CE', 'Vereda de Campos, 61\\nLuxemburgo\\n93321-813 Porto / RS', 'Estação de da Costa, 77\\nSanta Rita\\n53958764 Monteiro de das Neves / SE', 'Conjunto Almeida, 48\\nVila Ipiranga\\n18815990 Oliveira de Pereira / SC', 'Passarela de Moura, 212\\nSanta Rita\\n78292944 Nascimento do Norte / MT', 'Campo da Luz, 43\\nHorto Florestal\\n96352-463 Dias da Mata / SP', 'Setor de Campos, 13\\nUnidas\\n02485-741 Castro / MG', 'Sítio Silva, 118\\nSão Francisco\\n37250-114 Santos das Pedras / AM', 'Travessa de Souza, 4\\nJardinópolis\\n23078145 Vieira / AP', 'Passarela de Novaes, 477\\nConjunto Floramar\\n38375-743 Novaes / PA', 'Jardim Letícia Santos, 14\\nAntonio Ribeiro De Abreu 1ª Seção\\n42913826 Freitas / SP', 'Favela de Moura, 34\\nVila Piratininga\\n82752-620 Cardoso / PB', 'Viaduto Marina Almeida, 99\\nEngenho Nogueira\\n78155332 Vieira Grande / RJ', 'Alameda Cunha, 6\\nSanta Maria\\n98849-196 Almeida / MS', 'Aeroporto de Gomes, 220\\nCônego Pinheiro 1ª Seção\\n43194993 Fogaça das Flores / RS', 'Sítio de da Cunha, 120\\nAlípio De Melo\\n99675466 Pereira do Sul / PA', 'Esplanada da Rocha, 7\\nChácara Leonina\\n77946-620 Silva / RJ', 'Lago de Jesus, 4\\nLagoinha Leblon\\n69159595 Melo / RO', 'Estação Guilherme Pereira, 94\\nSão Luiz\\n75053101 Ribeiro / RR', 'Morro Pires, 5\\nVila Suzana Segunda Seção\\n39620-600 Sales Alegre / SC', 'Fazenda de Nunes\\nChácara Leonina\\n17095-895 Pinto de Dias / AC', 'Área de Mendes, 88\\nAcaiaca\\n74117-485 Nunes do Amparo / AL', 'Trecho de Almeida, 55\\nVila Piratininga\\n56686084 da Conceição de Minas / RN', 'Estação de Fogaça, 61\\nSerra Verde\\n98271-200 Sales de Lima / GO', 'Recanto Nogueira, 93\\nVila São Paulo\\n56566150 Pereira de Lopes / RO', 'Sítio Ana Luiza Pires, 34\\nSão Francisco Das Chagas\\n57561-885 Porto / AC', 'Estação Ana Vitória Alves\\nPantanal\\n47133-037 Sales / AM', 'Rodovia Pires, 502\\nNova Pampulha\\n71970068 Silva dos Dourados / PE', 'Avenida de da Cunha, 92\\nJardinópolis\\n59980-314 Lopes Verde / PR', 'Travessa de da Cunha\\nConjunto Lagoa\\n58812991 Martins / PA', 'Viela Luiz Felipe Santos, 53\\nOuro Preto\\n28669629 Araújo Alegre / MG', 'Pátio Maria Clara das Neves, 66\\nGoiania\\n92808102 Gomes / BA'], 'Telefone': ['+55 (031) 8481-1851', '+55 41 3960-6540', '(084) 0335-2029', '+55 (061) 9596 8176', '(051) 7570-3946', '0300-310-1434', '0800-455-4647', '+55 (011) 8499 0118', '+55 (081) 4822 8028', '+55 81 7238-2424', '11 8498 5406', '+55 (011) 6148-5319', '0300-979-1416', '+55 (051) 5094 8559', '(084) 2829-8144', '+55 (084) 9926-2405', '+55 81 1853-7247', '+55 (041) 7348-9205', '0300-650-2565', '51 1211 4018', '(011) 5539-0899', '0500 072 9378', '+55 71 1629 0465', '51 9744 8556', '0900-481-2187', '+55 61 4481 7868', '71 6385-2303', '(081) 3221 6849', '+55 31 8099 5189', '0500-498-9725', '+55 (011) 7746-0738', '+55 84 6545-7251', '+55 51 5442 4267', '71 0340-9388', '31 6836-4059', '51 7220 7103', '+55 11 9003-3949', '0900 975 8254', '(084) 4245 7718', '(021) 4437-4206', '61 3820-3835', '+55 (021) 0577 3391', '+55 (081) 4344 2689', '+55 (051) 9632-9614', '+55 (061) 7269-5435', '0300 386 9886', '21 8506 8882', '(061) 4361-7245', '+55 84 6551-1610', '71 4958-8392', '(051) 3192-3571', '+55 41 1346 1198', '(011) 6589 5491', '84 1049-1958', '+55 (031) 4291 5464', '+55 51 0562 5164', '+55 (011) 3490 3518', '21 0731 3320', '+55 21 1288-5660', '0500 861 0832', '41 6554 6229', '+55 84 5931 2159', '+55 (041) 2814-7371', '31 6591-5112', '+55 (061) 0265-5807', '+55 (051) 6499 8820', '81 3486-0147', '+55 71 5526 2005', '+55 (081) 6602 5403', '+55 (061) 9481 8484', '41 7360 5296', '+55 84 3532-4905', '+55 (011) 8885 8924', '+55 (011) 7506 6189', '+55 71 4071 0153', '(021) 5255 0478', '(084) 6987 2441', '+55 11 9423 2424', '+55 (051) 2431 4131', '0900 449 6278', '+55 51 5393 7448', '+55 (084) 2663-3584', '21 7601-8341', '31 4961-6724', '+55 84 4195 7713', '+55 31 6930-4707', '(021) 7759 1908', '(084) 6613 7252', '+55 81 1894-5125', '(084) 8513 1580', '+55 11 3824-6003', '(061) 0146 8082', '+55 11 4848-5251', '(041) 3871-1298', '+55 84 2335-1182', '+55 (071) 9522-7150', '(021) 8089 6210', '+55 84 1928 7048', '84 6278 5570', '+55 21 9512-1744', '(031) 5672-6763', '+55 (051) 8450 6473', '(061) 9655 0882', '(041) 4792 6947', '+55 31 0365 4354', '84 3236 2444', '84 5196-6708', '81 3575-4779', '+55 (081) 0554-8894', '+55 61 5559-6779', '84 2473 5351', '+55 81 4965-0977', '+55 71 2115-0391', '+55 (021) 3759-2910', '0800 202 1536', '(011) 2220-4007', '(021) 4234-5691', '81 7212 3039', '41 5750-8163', '+55 (011) 7654 9584', '41 2208 4899', '+55 61 9781 2881', '(041) 7905-9955', '+55 31 9452 4001', '+55 (081) 1885-0170', '+55 51 6480 8724', '+55 84 6538-8158', '51 9279 3967', '81 0222-6787', '+55 81 7126 1007', '+55 84 7154-8468', '+55 31 3869 1233', '(061) 6585 3486', '51 3686 1532', '61 9165-5533', '+55 41 5877-0141', '31 5699 2039', '0800-255-0670', '(071) 9484-2286', '(084) 6920 8199', '+55 (041) 3498-3747', '(041) 3566-4392', '(061) 3504-6161', '+55 (021) 4219 7728', '+55 31 0314-8276', '(011) 3100-5745', '+55 (081) 5832-2420', '+55 (081) 5824 3706', '61 0220 6670', '+55 31 1089-1255', '+55 (021) 8823 0086', '(084) 1139 5453', '+55 11 3536 5942', '71 2871 7879', '(051) 1226-7840', '(084) 2204-3716', '(081) 3594 6368', '0500 981 1751', '(051) 1647 8177', '+55 71 8472-0946', '(081) 4978-9036', '(084) 1507-4053', '0800 805 3506', '11 9070 8698', '+55 (011) 3732 4185', '11 6130 3580', '71 7159 8006', '+55 81 4645-6774', '+55 61 4587-0299', '31 8996 8510', '+55 84 4886 8134', '0800-692-9140', '+55 61 7651-7915', '+55 (031) 7207-8684', '51 4832 7639', '(071) 2971-5903', '+55 41 0760 1635', '0900-686-9909', '(021) 9535-3186', '+55 (021) 2158 5796', '+55 41 3595-8577', '+55 51 7139 4970', '+55 (071) 3449-9997', '+55 51 1442 2029', '+55 21 9257-2861', '+55 (031) 7697-3264', '81 2810-8565', '+55 (011) 6399 9094', '11 5868 8291', '(081) 0117 1785', '71 2473 1463', '+55 61 5969 3522', '(071) 4348 0981', '81 8388-5634', '61 0539 4337', '(031) 3394 8671', '+55 51 1454 6111', '41 6118 2228', '+55 (061) 4393-1548', '+55 (081) 7235-0120', '+55 84 5574 0331', '+55 (021) 4943-6756', '+55 (021) 7164 9476', '+55 81 3847-6069', '81 9248-0579', '(021) 7907-4231', '31 1710 6843', '+55 (041) 5457 7292', '+55 61 6428 2376', '+55 71 7759 9531', '+55 (071) 6933 6174', '(051) 9870-4854', '(041) 2582-3810', '(071) 1403-6177', '+55 (084) 3733-8278', '31 7332-0573', '+55 (081) 1840-6738', '31 4926 4190', '(081) 7542 2764', '+55 71 3251 4702', '+55 84 9060-0995', '(031) 7014 8618', '81 5515-4236', '+55 81 5313 0794', '0500-327-1817', '+55 81 1032 1307', '0900-577-0341', '+55 (061) 8419 2812', '(081) 5930 4544', '0800 355 1672', '+55 (021) 7744-4804', '71 2351 5293', '+55 41 7067-9293', '+55 11 1624 3397', '0500-131-3061', '+55 (084) 3333 9655', '21 7289-7948', '(051) 6836-5371', '(061) 8018 7057', '(041) 7811-0745', '+55 (051) 9001 0094', '0900 856 2404', '21 6386 3575', '+55 (084) 2912 7236', '0300 458 2019', '81 4987 5868', '21 2985-5568', '+55 51 3631 9316', '31 9517 1818', '(021) 4146 4911', '(061) 2734-4973', '(031) 4626-7795', '+55 (081) 9074 3675', '+55 61 2636-0237', '+55 21 1734 2366', '+55 (031) 4721 1490', '84 7091 8518', '(041) 7936-5608', '+55 (061) 5328 5408', '0500-903-3217', '0300 997 2728', '+55 81 1654-9018', '+55 (084) 4909 3975', '71 8658-7013', '0900 397 0607', '0500-383-4244', '0500-148-3860', '71 5418 2377', '(051) 2656-4376', '41 2250-7599', '+55 (021) 6194 0136', '+55 61 2214 9238', '+55 84 5555-9021', '+55 31 6239-5823', '+55 (021) 0093 4145', '0800-128-6490', '+55 (081) 4096 1465', '+55 71 5538 7337', '+55 (031) 1848-0235', '+55 41 2627-1448', '+55 31 6879 2005', '(041) 2971-5997', '51 8762 5048', '(011) 1256 2582', '0800 205 1584', '+55 41 6720-0553', '(051) 6432-8564', '81 0650-2629', '71 1297 3114', '61 1787 8745', '+55 (084) 9380-4263', '+55 (084) 6640-1417', '+55 31 2057 6644', '+55 (021) 2834-7400', '0800-528-7849', '+55 41 8816 3296', '+55 (031) 9781 6112', '+55 11 4014-3662', '+55 (061) 7567 4776', '+55 (021) 8252-8722', '+55 51 3453 1797', '(081) 3005-5287', '61 6403-0956', '61 0193 0887', '+55 (071) 3522 2663', '+55 21 0009 3061', '(011) 9117-3258', '+55 (031) 8615-6772', '0500-001-1581', '84 7298-7719', '81 9307-1123', '+55 84 6521 6422', '0900-669-9780', '+55 51 0959 2522', '+55 (011) 5835-9475', '+55 (011) 6757 1758', '0500 899 4609', '31 6748 1056', '+55 71 5090-3624', '+55 (051) 5283-4889', '+55 41 5889-9510', '+55 (061) 4673 5522', '+55 71 3388-3175', '84 0475-9777', '+55 (071) 3446 7888', '81 0924 2586', '+55 71 8248-1831', '+55 31 3496-5586', '(071) 0385-4803', '0800-836-9603', '+55 (011) 4405 8777', '+55 (051) 6316-6294', '+55 (021) 1723-0944', '71 6774 3223', '0800-392-2290', '+55 (051) 6445 0431', '+55 (071) 1899 1286', '(051) 2345-1320', '+55 (084) 6495 8438', '+55 (051) 5899 0089', '(011) 1043 0370', '(051) 9958-7308', '+55 (061) 7219-9688', '(061) 5640 1713', '+55 (041) 4184 1560', '+55 (061) 9886 6419', '(021) 8692 5731', '0500-875-9926', '+55 (061) 7828-8053', '+55 (071) 2674 4935', '(084) 1491 8375', '0900-578-4473', '+55 81 1581-4009', '(081) 6867 1479', '21 4097-2114', '+55 31 6570-1114', '+55 (011) 2751-5296', '(041) 6057-4200', '71 1486 2206', '(031) 6849-7711', '(084) 7481 2089', '0300-891-9290', '+55 11 3809-6854', '81 9556 8777', '(031) 9869-2383', '+55 61 6095-4582', '0300 360 1242', '(041) 9333 7916', '(051) 1959 1178', '0300 748 9287', '(041) 3437 7473', '81 2080-1935', '+55 21 2991 2248', '(084) 4687-3551', '0800-044-2511', '+55 41 9820 1288', '0300 770 5895', '+55 41 3122 1675', '(081) 4701 3096', '+55 31 7117 2787', '(051) 9976-2414', '(084) 2688 2819', '+55 (081) 8023 2251', '+55 51 0919 1555', '+55 (051) 6835-6791', '+55 (021) 5876-8380', '+55 81 1494 3512', '+55 (084) 1630-0288', '+55 61 7135 4208', '+55 11 1904-5883', '+55 61 2204 9074', '(031) 4685-8350', '31 3256-3035', '+55 (051) 4046-4289', '+55 (051) 2846 5766', '0900-597-7129', '+55 (081) 4351 9407', '(041) 4572-8506', '(084) 7481-9971', '+55 (061) 1715-5002'], 'Profissão': ['Engenheiro industrial', 'Agente de combate à endemias', 'Apresentador', 'Vendedor', 'Terapeuta Holístico', 'Maquiador', 'Astrônomo', 'Percursionista', 'Paramédico', 'Relações públicas', 'Tecnólogo em silvicultura', 'Geriatra', 'Tenente', 'Engenheiro de manufatura', 'Jóquei', 'Técnico em higiene dentária', 'Notário', 'Caça-talentos/Olheiro', 'Astrofísico', 'Jornaleiro', 'Endodontista', 'Conferente de expedição', 'Mototaxista', 'Figurinista', 'Engenheiro de produção agroindustrial', 'Babá', 'Advogado', 'Empacotador', 'Ombudsman', 'Prefeito', 'Oftalmologista', 'Cozinheira', 'Repórter', 'Patologista', 'Jogador de futebol', 'Coordenador', 'Coronel', 'Radiologista', 'Gastroenterologista', 'Lamboteiro', 'Odontologista legal', 'Cartazeiro', 'Moleiro', 'Cartógrafo', 'Produtor de multimídia', 'Viveirista', 'Carpinteiro', 'Apontador de mão-de-obra', 'Podólogo', 'Representante comercial', 'Ilustrador', 'Radiooperador de vôo', 'Meeiro', 'Tecnólogo em silvicultura', 'Jogador de boliche', 'Profissional de marketing', 'Chargista', 'Jogador de hóquei', 'Profissional de recursos humanos', 'Soldador', 'Timoneiro', 'Auxiliar de reprografia', 'Cartógrafo', 'Traumatologista', 'Tecnólogo em navegação fluvial', 'Prático', 'Marcador de luz', 'Mágico', 'Jogador de basquete', 'Aeromoça', 'Jornaleiro', 'Antropólogo', 'Programador', 'Educador', 'Estofador', 'Lubrificador de máquinas', 'Optometrista', 'Tecnólogo em jogos digitais', 'Auditor', 'Dedetizador', 'Plastimodelista', 'Tecnólogo em desenvolvimento social', 'Lamboteiro', 'Paisagista', 'Cirurgião dentista', 'Saxofonista', 'Técnico em rede', 'Soldador', 'Profissional de tecnologia de laticínios', 'Instrutor', 'Jogador de hóquei', 'Operador de bombas', 'Gastroenterologista', 'Profissional de recursos humanos', 'Profissional de reciclagem', 'Cambista', 'Nutricionista', 'Auxiliar de reprografia', 'Tecnólogo em Ciências das plantas medicinais', 'Comissário de bordo', 'Tecnólogo em automação industrial', 'Escriturário', 'Jóquei', 'Tecnólogo em desenvolvimento social', 'Neurocirurgião', 'Arrumadeira', 'Professor', 'Acompanhante', 'Sacoleira', 'Gandula', 'Papiloscopista', 'Procurador de justiça', 'Lutador de kung fu', 'Psicomotricista', 'Tecnólogo em irrigação e drenagem', 'Bedel', 'Programador', 'Embalsamador', 'Ambulante', 'Farmacêutico', 'Cientista', 'Lavador de veículos', 'Kite-surfer', 'Aviador', 'Cardiologista', 'Adestrador de animais', 'Sonoplasta', 'Profissional de linguística', 'Maitre', 'Pecuarista', 'Perito criminal', 'Torreiro/Torrista', 'Maquinista', 'Paparazzo', 'Tecnólogo em papel e celulose', 'Lixeiro/Coletor de lixo', 'Preparador de máquinas', 'Marceneiro', 'Dermatologista', 'Perfumista', 'Agricultor', 'Empregado doméstico', 'Mensageiro', 'Regente', 'Prefeito', 'Tintureiro', 'Navegador', 'Comprador', 'Orçamentista', 'Marcador de luz', 'Promotor de vendas', 'Salgadeira', 'Presidente da República', 'Odontologista preventivo e social', 'Intérprete', 'Urologista', 'Retificador', 'Designer de produto ou desenhista industrial', 'Marcador de luz', 'Fisioterapeuta', 'Fotógrafo', 'Técnico tributarista', 'Agrimensor', 'Passador', 'Babysitter', 'Economista doméstico', 'Impressor', 'Designer de interiores', 'Artista/Técnico em espetáculos de diversões', 'Líder comunitário', 'Coronel', 'Instrumentador cirúrgico', 'Perfumista', 'Podólogo', 'Comandante', 'Chargista', 'Estofador', 'Contabilista', 'Borracheiro', 'Boxeador', 'Técnico em aviação', 'Espeleologista', 'Corretor de seguros', 'Zelador', 'Jóquei', 'Neurocirurgião', 'Berçarista', 'Radiooperador de vôo', 'Metalúrgico', 'Escoteiro', 'Serralheiro', 'Serralheiro', 'Oculista', 'Classificador contábil', 'Pedreiro', 'Orientador educacional', 'Cameraman', 'Boticário', 'Relações públicas', 'Urologista', 'Engenheiro de horticultura', 'Radioterapêutico', 'Administrador de banco de dados DBA', 'Levantador de peso', 'Juiz de futebol', 'Biblioteconomista', 'Faxineiro', 'Técnico em rede', 'Bombeiro', 'Levantador de peso', 'Diretor de cinema', 'Patologista oral', 'Médico', 'Técnico em hardware', 'Cineasta', 'Baixista', 'Contatólogo', 'Conferente de carga e descarga', 'Taxidermista/Embalsamador', 'Comissário de bordo', 'Engenheiro petroquímico', 'Diretor de fotografia', 'Governador', 'Conferente de expedição', 'Garçom', 'Ortoptista', 'Diarista', 'Corregedor de justiça', 'Diplomata', 'Agrônomo', 'Gestor ambiental', 'Perito criminal', 'Odontologista preventivo e social', 'Urbanista', 'Fotógrafo', 'Cenotécnico', 'Jogador de basquete', 'Empregado doméstico', 'Bioquímico', 'Vereador', 'Profissional de manutenção industrial', 'Zootecnista', 'Produtor musical', 'Meeiro', 'Classificador contábil', 'Ferramenteiro', 'Militar da Aeronáutica', 'Jogador de bocha', 'Oficial de justiça', 'Técnico em agropecuária', 'Copeiro', 'Gandula', 'Toxicologista', 'Secretária', 'Técnico em radiologia', 'Comerciante', 'Leiloeiro', 'Engraxate', 'Ventríloquo', 'Coveiro/Sepultador', 'Administrador', 'Esteticista', 'Gestor de qualidade', 'Transcritor', 'Ambulante', 'Relações públicas', 'Transportador', 'Portuário', 'Tecnólogo em rochas ornamentais', 'Babá', 'Controlador de vôo', 'Comerciante', 'Ginasta artística', 'Florista', 'Tecnólogo em tecnologia da madeira', 'Engenheiro agrícola', 'Profissional de recursos humanos', 'Técnico em desporto', 'Gestor de qualidade', 'Técnico em hardware', 'Vigia parlamentar', 'Chapeiro', 'Inspetor', 'Headhunter', 'Comprador', 'Gestor de tecnologia da informação', 'Personal stylist', 'Projetista mecânico', 'Físico nuclear', 'Dublê', 'Governanta', 'Panificador/Padeiro', 'Dançarino', 'Governador', 'Engenheiro naval', 'Guincheiro', 'Lixeiro/Coletor de lixo', 'Estofador', 'Biotecnólogo', 'Cantor', 'Oceanógrafo', 'Encarregado de manutenção predial', 'Terapeuta Holístico', 'Engenheiro de controle e automação', 'Arranjador musical', 'Jogador de futebol', 'Técnico em documentação', 'Engenheiro de segurança do trabalho', 'Major', 'Operador de bombas', 'Quadrinista', 'Instrumentador cirúrgico', 'Optometrista', 'Tecnólogo em produção de bebidas', 'Pneumologista', 'Zootecnista', 'Subprefeito', 'Astrônomo', 'Biólogo', 'Cobrador de pedágio', 'Arquivista', 'Ortoptista', 'Endodontista', 'Diarista', 'Administrador público', 'Impressor', 'Guitarrista', 'Corretor de imóveis', 'Agente de defesa sanitária', 'Porteiro', 'Instalador de linha telefônica', 'Maquiador', 'Político', 'Tecnólogo em papel e celulose', 'Biomédico', 'Capitão', 'Cientista social', 'Médico cirurgião', 'Administrador', 'Operador de vídeo', 'Portuário', 'Lactarista hospitalar', 'Telegrafista', 'Psicopedagogo', 'Engenheiro de iluminação', 'Meteorologista', 'Reumatologista', 'Velejador', 'Ascensorista', 'Quadrinista', 'Instalador de painéis', 'Engenheiro químico', 'Capitão', 'Investigador particular', 'Harpista', 'Geólogo', 'Analista de sistemas', 'Moldador', 'Administrador público', 'Contramestre em transporte marítimo', 'Ciclista', 'Alfaiate', 'Zelador', 'Alpinista', 'Roteirista', 'Bartender', 'Estofador', 'Estoquista', 'Meredeira', 'Profissional de efeitos especiais', 'Designer de moda', 'Profissional de relacionamento com investidores RI', 'Fonoaudiólogo', 'Cientista', 'Windsurfer', 'Triatleta', 'Cinegrafista', 'Contábil', 'Personal trainer', 'Contador', 'Estoquista', 'Controller', 'Administrador de banco de dados DBA', 'Tecnólogo em esporte e lazer', 'Profissional de hotelaria', 'Retificador', 'Tenente', 'Instrumentador cirúrgico', 'Fresador', 'Musicoterapeuta', 'Traumatologista', 'Administrador de redes', 'Estoquista', 'Bancário', 'Ombudsman', 'Baterista', 'Jóquei', 'Marechal', 'Terapeuta Holístico', 'Encarregado de manutenção predial'], 'Data de Nascimento': [datetime.date(1965, 12, 5), datetime.date(1920, 4, 10), datetime.date(1920, 9, 22), datetime.date(1920, 1, 14), datetime.date(2012, 11, 17), datetime.date(2005, 10, 23), datetime.date(1960, 9, 28), datetime.date(1998, 3, 22), datetime.date(1923, 10, 16), datetime.date(2017, 1, 29), datetime.date(1982, 6, 6), datetime.date(2018, 7, 21), datetime.date(1991, 10, 5), datetime.date(1953, 8, 25), datetime.date(1925, 9, 14), datetime.date(1957, 5, 6), datetime.date(1954, 1, 7), datetime.date(1975, 8, 22), datetime.date(1928, 4, 8), datetime.date(2015, 9, 28), datetime.date(2008, 1, 3), datetime.date(1961, 4, 10), datetime.date(1971, 12, 22), datetime.date(1971, 2, 8), datetime.date(1958, 7, 8), datetime.date(1975, 3, 19), datetime.date(1995, 4, 14), datetime.date(1923, 10, 26), datetime.date(2021, 7, 18), datetime.date(1924, 12, 6), datetime.date(2012, 2, 18), datetime.date(2019, 10, 2), datetime.date(1974, 11, 5), datetime.date(1918, 3, 4), datetime.date(1928, 4, 1), datetime.date(2021, 8, 24), datetime.date(1975, 12, 26), datetime.date(1948, 1, 29), datetime.date(2012, 2, 20), datetime.date(1912, 8, 10), datetime.date(2012, 10, 8), datetime.date(2011, 10, 22), datetime.date(1969, 8, 22), datetime.date(2008, 9, 27), datetime.date(1984, 7, 3), datetime.date(2006, 8, 23), datetime.date(1962, 9, 15), datetime.date(1925, 5, 3), datetime.date(1980, 3, 10), datetime.date(1954, 4, 24), datetime.date(1994, 9, 20), datetime.date(1930, 4, 23), datetime.date(2019, 7, 28), datetime.date(1924, 12, 26), datetime.date(1977, 10, 27), datetime.date(1925, 1, 13), datetime.date(2015, 7, 5), datetime.date(1962, 1, 15), datetime.date(1933, 11, 16), datetime.date(1995, 7, 18), datetime.date(1939, 12, 13), datetime.date(1969, 8, 29), datetime.date(1967, 2, 1), datetime.date(2020, 10, 14), datetime.date(1997, 5, 24), datetime.date(1930, 4, 20), datetime.date(1923, 10, 27), datetime.date(1965, 11, 15), datetime.date(1979, 10, 12), datetime.date(1943, 1, 13), datetime.date(1934, 1, 5), datetime.date(2009, 10, 21), datetime.date(1936, 2, 22), datetime.date(1999, 6, 9), datetime.date(1941, 1, 1), datetime.date(1911, 5, 12), datetime.date(1943, 3, 1), datetime.date(2004, 7, 13), datetime.date(1994, 3, 9), datetime.date(2018, 2, 23), datetime.date(1981, 3, 29), datetime.date(2008, 11, 2), datetime.date(2011, 4, 3), datetime.date(1964, 11, 5), datetime.date(1921, 11, 17), datetime.date(1964, 11, 11), datetime.date(1948, 9, 26), datetime.date(1928, 10, 30), datetime.date(2009, 5, 16), datetime.date(2009, 12, 11), datetime.date(2003, 3, 30), datetime.date(1992, 1, 10), datetime.date(1968, 4, 4), datetime.date(2004, 5, 10), datetime.date(2008, 9, 23), datetime.date(1941, 11, 26), datetime.date(1965, 6, 7), datetime.date(1942, 8, 25), datetime.date(1959, 2, 12), datetime.date(1994, 11, 14), datetime.date(1941, 10, 22), datetime.date(1997, 2, 15), datetime.date(1932, 3, 15), datetime.date(1980, 9, 12), datetime.date(1987, 12, 20), datetime.date(2021, 10, 29), datetime.date(2012, 4, 2), datetime.date(2009, 2, 20), datetime.date(1969, 1, 15), datetime.date(1997, 12, 11), datetime.date(1976, 3, 28), datetime.date(1960, 9, 20), datetime.date(1915, 8, 6), datetime.date(1986, 6, 26), datetime.date(2002, 9, 1), datetime.date(1980, 10, 18), datetime.date(1944, 4, 22), datetime.date(1926, 8, 3), datetime.date(1946, 12, 12), datetime.date(1976, 10, 15), datetime.date(2006, 11, 29), datetime.date(2010, 7, 21), datetime.date(1960, 5, 14), datetime.date(1922, 5, 21), datetime.date(1973, 1, 31), datetime.date(1998, 10, 5), datetime.date(2013, 9, 6), datetime.date(2014, 9, 19), datetime.date(1931, 3, 1), datetime.date(2019, 10, 25), datetime.date(1958, 8, 25), datetime.date(1965, 5, 21), datetime.date(1932, 9, 24), datetime.date(1908, 4, 15), datetime.date(1954, 2, 20), datetime.date(1930, 8, 13), datetime.date(1965, 11, 11), datetime.date(1978, 1, 20), datetime.date(1995, 6, 20), datetime.date(1937, 3, 28), datetime.date(1997, 10, 29), datetime.date(1956, 3, 21), datetime.date(1956, 5, 29), datetime.date(1968, 9, 29), datetime.date(1921, 9, 3), datetime.date(1930, 9, 27), datetime.date(1969, 3, 27), datetime.date(2020, 1, 15), datetime.date(1970, 10, 31), datetime.date(2023, 9, 3), datetime.date(1944, 10, 14), datetime.date(1944, 1, 20), datetime.date(2022, 6, 5), datetime.date(1990, 11, 21), datetime.date(2012, 11, 18), datetime.date(1914, 11, 21), datetime.date(1971, 8, 20), datetime.date(1921, 4, 23), datetime.date(1943, 9, 6), datetime.date(1980, 1, 16), datetime.date(1954, 6, 11), datetime.date(1910, 1, 30), datetime.date(1960, 6, 16), datetime.date(1978, 8, 9), datetime.date(1993, 6, 4), datetime.date(1997, 2, 5), datetime.date(1970, 7, 15), datetime.date(1995, 7, 30), datetime.date(1962, 3, 6), datetime.date(1915, 5, 15), datetime.date(1942, 1, 24), datetime.date(1948, 9, 10), datetime.date(1992, 9, 24), datetime.date(1962, 4, 30), datetime.date(2002, 4, 26), datetime.date(2023, 9, 23), datetime.date(1909, 9, 19), datetime.date(1964, 4, 26), datetime.date(1932, 5, 2), datetime.date(1986, 9, 5), datetime.date(2011, 3, 2), datetime.date(2005, 12, 13), datetime.date(2022, 9, 12), datetime.date(2000, 10, 10), datetime.date(1959, 5, 25), datetime.date(2000, 3, 27), datetime.date(2016, 10, 20), datetime.date(1939, 7, 22), datetime.date(1935, 5, 23), datetime.date(1930, 5, 15), datetime.date(1909, 5, 7), datetime.date(1966, 11, 25), datetime.date(1991, 8, 14), datetime.date(1977, 11, 1), datetime.date(1963, 4, 10), datetime.date(1955, 12, 8), datetime.date(1965, 2, 23), datetime.date(1951, 5, 5), datetime.date(2013, 6, 7), datetime.date(2019, 8, 2), datetime.date(1966, 3, 9), datetime.date(1947, 11, 27), datetime.date(1923, 4, 14), datetime.date(1999, 6, 21), datetime.date(1999, 7, 9), datetime.date(1922, 1, 12), datetime.date(1994, 1, 18), datetime.date(2022, 2, 10), datetime.date(2020, 10, 29), datetime.date(1963, 1, 27), datetime.date(1922, 8, 24), datetime.date(1915, 12, 30), datetime.date(1947, 12, 6), datetime.date(2016, 9, 18), datetime.date(1970, 11, 15), datetime.date(2001, 10, 23), datetime.date(1977, 7, 7), datetime.date(1998, 3, 1), datetime.date(1986, 7, 18), datetime.date(1986, 4, 27), datetime.date(1932, 3, 5), datetime.date(1934, 11, 18), datetime.date(1910, 4, 29), datetime.date(1963, 6, 20), datetime.date(1943, 3, 2), datetime.date(1996, 5, 18), datetime.date(1919, 1, 30), datetime.date(1999, 9, 8), datetime.date(2013, 4, 14), datetime.date(1918, 7, 23), datetime.date(1918, 10, 30), datetime.date(1975, 3, 29), datetime.date(1964, 8, 13), datetime.date(1987, 10, 1), datetime.date(1910, 2, 11), datetime.date(1930, 4, 4), datetime.date(1924, 3, 27), datetime.date(1946, 11, 10), datetime.date(1935, 7, 17), datetime.date(2002, 8, 26), datetime.date(1978, 7, 18), datetime.date(1937, 2, 3), datetime.date(1978, 5, 22), datetime.date(1949, 4, 3), datetime.date(1999, 8, 9), datetime.date(1937, 5, 18), datetime.date(1927, 12, 6), datetime.date(1960, 9, 28), datetime.date(2012, 5, 5), datetime.date(1923, 12, 9), datetime.date(2011, 12, 24), datetime.date(1956, 11, 22), datetime.date(1970, 4, 6), datetime.date(1908, 9, 24), datetime.date(1945, 5, 21), datetime.date(2007, 9, 5), datetime.date(1924, 7, 16), datetime.date(1958, 1, 17), datetime.date(1974, 5, 25), datetime.date(1995, 5, 26), datetime.date(1950, 11, 7), datetime.date(1912, 9, 21), datetime.date(1989, 9, 15), datetime.date(2015, 5, 4), datetime.date(2023, 5, 6), datetime.date(1918, 11, 23), datetime.date(1975, 1, 11), datetime.date(1924, 4, 30), datetime.date(1996, 1, 3), datetime.date(1989, 8, 23), datetime.date(1982, 11, 23), datetime.date(1914, 9, 14), datetime.date(1956, 11, 8), datetime.date(1994, 11, 16), datetime.date(1951, 8, 19), datetime.date(1957, 3, 13), datetime.date(1937, 3, 11), datetime.date(1917, 1, 9), datetime.date(1937, 1, 22), datetime.date(1911, 7, 4), datetime.date(1973, 12, 5), datetime.date(1950, 1, 26), datetime.date(2009, 3, 10), datetime.date(2015, 5, 8), datetime.date(1955, 11, 1), datetime.date(2022, 11, 27), datetime.date(1959, 2, 22), datetime.date(2018, 6, 18), datetime.date(1948, 12, 22), datetime.date(1988, 2, 21), datetime.date(1974, 9, 30), datetime.date(1930, 4, 11), datetime.date(1931, 9, 17), datetime.date(2015, 2, 9), datetime.date(1929, 12, 3), datetime.date(1988, 3, 25), datetime.date(1954, 9, 24), datetime.date(2010, 3, 13), datetime.date(1930, 12, 27), datetime.date(1986, 3, 2), datetime.date(1940, 6, 21), datetime.date(1993, 12, 26), datetime.date(2004, 11, 20), datetime.date(1948, 10, 18), datetime.date(1929, 4, 3), datetime.date(1960, 3, 5), datetime.date(2004, 10, 2), datetime.date(2012, 2, 19), datetime.date(1922, 7, 12), datetime.date(1976, 9, 10), datetime.date(1908, 9, 25), datetime.date(2012, 4, 19), datetime.date(2002, 4, 6), datetime.date(1958, 4, 10), datetime.date(1936, 10, 8), datetime.date(1937, 7, 25), datetime.date(1970, 6, 9), datetime.date(1961, 12, 8), datetime.date(1928, 3, 4), datetime.date(1983, 6, 6), datetime.date(1961, 10, 24), datetime.date(1964, 5, 9), datetime.date(1990, 9, 24), datetime.date(2019, 6, 29), datetime.date(1983, 11, 7), datetime.date(1949, 1, 4), datetime.date(1993, 2, 11), datetime.date(1916, 7, 18), datetime.date(1966, 11, 20), datetime.date(1993, 9, 4), datetime.date(1988, 1, 12), datetime.date(1917, 3, 3), datetime.date(2008, 7, 20), datetime.date(1946, 11, 27), datetime.date(2012, 12, 7), datetime.date(1914, 7, 3), datetime.date(1987, 11, 12), datetime.date(1928, 9, 10), datetime.date(1936, 11, 4), datetime.date(1933, 1, 27), datetime.date(1982, 3, 6), datetime.date(1973, 2, 10), datetime.date(1936, 6, 21), datetime.date(2022, 10, 20), datetime.date(1942, 10, 28), datetime.date(1975, 9, 3), datetime.date(2019, 9, 25), datetime.date(2011, 5, 18), datetime.date(2017, 5, 29), datetime.date(1908, 12, 7), datetime.date(1920, 3, 3), datetime.date(2009, 9, 22), datetime.date(1980, 5, 26), datetime.date(1920, 7, 25), datetime.date(1981, 12, 1), datetime.date(1947, 7, 16), datetime.date(1921, 6, 23), datetime.date(1995, 7, 24), datetime.date(2005, 10, 25), datetime.date(1997, 11, 8), datetime.date(1968, 6, 9), datetime.date(1957, 10, 10), datetime.date(1951, 4, 16), datetime.date(1911, 5, 4), datetime.date(1925, 6, 8), datetime.date(1953, 4, 14), datetime.date(1967, 10, 13), datetime.date(1934, 8, 7), datetime.date(1979, 3, 3), datetime.date(1976, 1, 1), datetime.date(2005, 5, 26), datetime.date(1949, 6, 24), datetime.date(2019, 7, 6), datetime.date(2008, 2, 23), datetime.date(2019, 6, 13), datetime.date(1984, 5, 15), datetime.date(1975, 12, 5), datetime.date(2016, 11, 15), datetime.date(1991, 9, 13), datetime.date(1967, 6, 12), datetime.date(1999, 3, 26), datetime.date(1975, 6, 25), datetime.date(1941, 3, 12), datetime.date(1916, 5, 16), datetime.date(1990, 7, 1), datetime.date(1936, 3, 6), datetime.date(1930, 5, 30), datetime.date(2002, 10, 22), datetime.date(1937, 7, 25), datetime.date(1982, 12, 12), datetime.date(1993, 6, 23), datetime.date(1944, 1, 22), datetime.date(1988, 4, 27), datetime.date(2021, 12, 8), datetime.date(1974, 6, 6), datetime.date(1982, 2, 20), datetime.date(1952, 9, 23), datetime.date(1963, 6, 3), datetime.date(1985, 8, 18), datetime.date(1919, 7, 23)], 'Cidade': ['Melo', 'Mendes', 'Porto do Galho', 'Ramos de Peixoto', 'Monteiro do Amparo', 'Jesus', 'Lopes do Campo', 'Novaes', 'da Rocha de Ferreira', 'Cardoso de Barbosa', 'Viana', 'Farias de Goiás', 'Ramos', 'Pires das Pedras', 'Araújo', 'Rodrigues', 'Nunes', 'Nascimento de da Mota', 'Moura', 'Alves de Goiás', 'Farias da Prata', 'Rodrigues Paulista', 'Barros', 'Souza das Flores', 'das Neves de Martins', 'Cardoso', 'Caldeira das Flores', 'Rezende Verde', 'Campos das Pedras', 'Gomes', 'Costela dos Dourados', 'Freitas', 'Lopes', 'Cavalcanti', 'Araújo', 'da Cunha', 'Novaes', 'Cavalcanti do Oeste', 'Nogueira', 'Lima', 'Moura de Minas', 'Carvalho de Oliveira', 'Souza', 'da Luz do Amparo', 'Oliveira', 'Novaes Grande', 'Moreira Paulista', 'Barbosa', 'da Rosa', 'Cunha', 'Cavalcanti da Praia', 'Moreira', 'Fogaça dos Dourados', 'Moura', 'da Cunha Paulista', 'Jesus', 'Araújo de Lopes', 'Barbosa da Serra', 'Ramos', 'Nunes', 'Porto', 'da Luz', 'Carvalho', 'Rezende', 'Moreira da Mata', 'Barros', 'Cardoso', 'Sales', 'Cardoso do Campo', 'Costa da Praia', 'Cardoso do Sul', 'da Costa de Goiás', 'Moraes', 'da Rosa', 'Monteiro de Silveira', 'Viana', 'Jesus Grande', 'Carvalho', 'Rodrigues', 'Pinto do Amparo', 'Dias', 'Cardoso do Galho', 'Dias da Praia', 'Pires de da Paz', 'Costela', 'da Costa', 'Ribeiro', 'Rocha dos Dourados', 'Barbosa', 'Gonçalves de Melo', 'Vieira das Pedras', 'Pereira', 'Ramos do Amparo', 'Cardoso', 'Ferreira', 'Costa', 'Peixoto', 'Cardoso', 'Campos de Goiás', 'Rezende do Campo', 'das Neves do Galho', 'Cardoso de Carvalho', 'da Cruz', 'Carvalho', 'Farias de Lima', 'Cunha de Pires', 'Araújo', 'Nascimento de Santos', 'Costa', 'Pereira do Amparo', 'Farias', 'Viana da Prata', 'Duarte de Fernandes', 'Cunha de Nunes', 'Sales do Sul', 'Santos', 'Vieira das Pedras', 'Campos', 'da Luz', 'Cardoso', 'Nunes de Carvalho', 'Gonçalves de da Mata', 'Ramos Verde', 'Ramos da Serra', 'Costela do Galho', 'Silveira', 'Ribeiro Paulista', 'Carvalho', 'Caldeira', 'da Luz', 'Rodrigues', 'Almeida do Campo', 'Dias', 'Azevedo', 'Castro', 'Oliveira', 'Rocha de Pires', 'Dias', 'Mendes', 'Oliveira', 'das Neves Paulista', 'Monteiro', 'Dias', 'Martins', 'Campos Verde', 'Souza de Minas', 'Araújo das Flores', 'Dias da Prata', 'Cavalcanti Paulista', 'da Mota', 'da Rosa', 'Duarte', 'Jesus do Galho', 'Costa', 'Campos de Moraes', 'Moreira', 'Nascimento', 'Costa', 'Caldeira', 'das Neves de da Luz', 'Costela', 'Melo', 'Castro Verde', 'Peixoto', 'Carvalho de da Rosa', 'Monteiro das Flores', 'Souza', 'das Neves da Praia', 'Pereira', 'Cavalcanti', 'da Costa', 'Viana', 'Moraes', 'da Mota de da Cruz', 'da Cruz de Peixoto', 'da Rocha', 'Carvalho', 'da Paz de Oliveira', 'Araújo', 'Costela', 'Porto do Amparo', 'Cardoso Grande', 'Araújo da Prata', 'Teixeira de Minas', 'Castro das Flores', 'das Neves', 'Pinto', 'Costela', 'Rodrigues de Minas', 'Porto de Minas', 'Novaes da Praia', 'Correia do Oeste', 'Moura', 'da Paz das Pedras', 'da Paz da Praia', 'da Mata', 'Costela', 'das Neves', 'da Mata', 'Nogueira de Correia', 'da Paz', 'Campos dos Dourados', 'Rodrigues', 'Freitas', 'da Rocha da Praia', 'Pires Grande', 'da Rosa', 'Almeida da Praia', 'Cavalcanti da Serra', 'da Rosa', 'Cavalcanti da Serra', 'Costela', 'Ferreira de Pires', 'da Cruz', 'Moraes', 'Nunes', 'Silveira do Campo', 'da Rocha Verde', 'das Neves do Amparo', 'Peixoto', 'Gomes', 'das Neves', 'Oliveira de da Rocha', 'Porto do Sul', 'Ribeiro do Galho', 'Costela', 'Duarte', 'Monteiro', 'Fogaça dos Dourados', 'Farias', 'Barbosa', 'Cavalcanti', 'Gonçalves', 'da Costa de Rodrigues', 'Santos do Norte', 'Silveira de Sales', 'Souza', 'Monteiro', 'Mendes do Amparo', 'da Cunha', 'Almeida de Porto', 'da Luz de Goiás', 'Azevedo dos Dourados', 'Correia', 'Almeida', 'Caldeira', 'Cardoso', 'Gonçalves do Amparo', 'Carvalho', 'Peixoto', 'Jesus', 'Ribeiro do Sul', 'Pinto das Pedras', 'Moura', 'Martins do Sul', 'Mendes', 'Jesus da Mata', 'Cavalcanti do Galho', 'Fogaça de Goiás', 'da Rosa', 'Oliveira', 'Cardoso do Galho', 'Jesus das Pedras', 'Rocha', 'Freitas', 'Barbosa', 'Porto do Oeste', 'Nogueira do Oeste', 'da Conceição dos Dourados', 'Lopes de da Rosa', 'Santos', 'Oliveira do Oeste', 'Alves do Campo', 'Moura de Campos', 'Barros do Campo', 'da Paz de Costa', 'da Mata do Amparo', 'Pereira de da Mata', 'Pereira', 'Carvalho da Prata', 'Castro', 'Silva', 'Souza', 'Fogaça do Galho', 'Barros Paulista', 'Viana de Minas', 'Teixeira do Campo', 'Azevedo', 'Moreira de Goiás', 'da Paz de Minas', 'Cardoso das Flores', 'Melo Verde', 'Cardoso de Ferreira', 'da Paz de Goiás', 'Nascimento Paulista', 'Ramos do Norte', 'Sales do Norte', 'Fogaça do Galho', 'da Rocha do Sul', 'Pinto', 'da Rosa da Serra', 'da Cruz de da Conceição', 'Fernandes', 'Cardoso', 'Azevedo das Flores', 'Pereira de Goiás', 'Pereira das Flores', 'Fernandes', 'da Luz', 'Ribeiro da Serra', 'Castro de Rodrigues', 'Campos', 'Viana', 'Barbosa', 'Oliveira de Lopes', 'Costela da Serra', 'Fogaça das Flores', 'Pereira', 'Nogueira', 'Rodrigues do Sul', 'Lopes', 'Gomes de Minas', 'da Mota de Martins', 'Viana de Ferreira', 'da Cruz', 'da Paz das Pedras', 'Almeida', 'Ramos da Prata', 'Fernandes Verde', 'Rezende', 'Souza', 'Costela Grande', 'Gomes da Praia', 'da Paz', 'Viana Alegre', 'Porto', 'Almeida', 'da Luz', 'Peixoto', 'Pereira', 'Barros', 'Peixoto', 'Melo', 'Nunes', 'da Cruz', 'Costa', 'Azevedo do Sul', 'Jesus Alegre', 'Porto de Oliveira', 'Freitas do Campo', 'Viana', 'Monteiro de Moura', 'Gonçalves de Goiás', 'Moraes de Minas', 'Souza', 'Novaes da Mata', 'da Mata da Praia', 'Sales Verde', 'Melo dos Dourados', 'Gomes', 'Costa', 'Peixoto', 'da Cruz de Goiás', 'Freitas Verde', 'Nascimento', 'da Luz dos Dourados', 'Teixeira', 'Martins', 'da Costa de Melo', 'Campos das Pedras', 'da Mota', 'Santos', 'Freitas do Norte', 'Rezende', 'Jesus das Flores', 'Santos das Pedras', 'da Conceição', 'Sales de Minas', 'Melo', 'Pinto Verde', 'Caldeira de Farias', 'Santos', 'Ribeiro de Cunha', 'Farias', 'das Neves de Porto', 'Costela', 'Caldeira', 'Pinto de Cardoso', 'Cardoso de Monteiro', 'Novaes das Flores', 'Cardoso do Amparo', 'Ferreira de Cardoso', 'Oliveira do Norte', 'Moura', 'Rodrigues', 'Castro das Pedras', 'Nogueira', 'Pereira de Fernandes', 'da Mata dos Dourados', 'Moraes'], 'Estado': ['SP', 'RN', 'SE', 'PI', 'AM', 'RR', 'AP', 'AL', 'MA', 'PI', 'MT', 'AL', 'RS', 'MT', 'SP', 'DF', 'PR', 'PI', 'GO', 'RR', 'SP', 'AC', 'MG', 'PI', 'TO', 'RJ', 'MA', 'SP', 'ES', 'SE', 'SE', 'RO', 'CE', 'RO', 'SE', 'CE', 'SP', 'TO', 'AL', 'BA', 'ES', 'ES', 'CE', 'ES', 'TO', 'RO', 'AC', 'RS', 'AM', 'PA', 'BA', 'ES', 'RO', 'PI', 'PB', 'BA', 'CE', 'AC', 'PE', 'RR', 'AM', 'GO', 'TO', 'RN', 'CE', 'AC', nan, 'MA', 'RO', 'MG', 'GO', 'MG', 'AL', nan, 'MG', 'GO', 'RN', 'SC', 'MT', 'GO', 'SE', 'PA', 'RJ', 'MA', 'RJ', 'CE', 'SC', 'RN', 'BA', 'PA', 'SE', 'DF', 'AL', 'MG', 'PI', 'AL', 'MT', 'PA', 'SP', 'SC', 'RN', 'RR', 'AL', 'TO', 'AM', 'AL', 'MT', 'PI', 'RN', 'BA', 'MG', 'PA', 'SP', 'PA', 'PI', 'RJ', 'PE', 'MA', 'RO', 'RJ', 'DF', 'RS', 'CE', 'RN', 'AL', 'PA', 'SP', 'MT', 'AL', 'RS', 'ES', 'ES', 'CE', 'GO', 'GO', nan, 'CE', 'PA', 'BA', 'RO', 'MG', 'RO', 'ES', 'MS', 'RN', 'SP', 'PR', 'RR', 'AC', 'PE', 'AL', 'ES', 'PB', 'PR', nan, 'MA', 'ES', 'PB', 'DF', 'RJ', 'PI', 'CE', 'MS', 'MT', 'SP', 'ES', 'BA', 'PI', 'MG', 'RS', 'PI', 'CE', 'CE', 'MG', 'PA', 'SP', 'MT', 'MT', 'MA', 'MG', nan, 'CE', 'GO', 'RS', 'BA', nan, 'RJ', 'PI', 'RR', nan, 'GO', 'AM', 'TO', 'SE', 'TO', 'PR', 'RO', 'MG', 'BA', 'RR', 'DF', 'BA', 'CE', 'RO', 'AC', 'AC', 'AP', 'SC', 'AP', 'TO', 'AP', 'PA', 'MT', 'PE', 'RN', 'SE', 'PI', 'RJ', 'PR', 'MS', 'MG', 'RS', 'MS', 'TO', 'RS', 'RJ', 'PI', 'ES', 'DF', 'SE', 'RO', 'MG', 'AL', 'MS', 'PA', 'RS', 'SE', 'MS', 'MG', 'BA', 'MA', 'CE', 'PI', 'AP', 'RN', 'PA', 'GO', 'PI', 'AC', 'PB', 'MT', 'MA', 'RR', 'AL', 'SP', nan, 'AP', 'AP', 'PA', 'RJ', 'SE', 'PR', 'PR', 'RS', 'DF', 'GO', 'PI', 'SE', 'MA', 'AP', 'GO', 'RR', 'AL', 'SE', 'AC', 'CE', 'DF', 'RR', 'PR', 'TO', 'RO', 'RO', 'PI', 'SC', 'SC', 'AL', 'PA', 'AC', 'DF', 'PI', 'RN', 'CE', 'DF', 'RN', 'PA', 'GO', 'PB', 'MS', 'AP', 'PE', 'MG', 'RS', 'MA', 'AM', 'SE', 'SE', 'AC', 'GO', 'RJ', 'CE', 'BA', 'ES', 'MA', 'BA', 'RR', 'PI', 'AM', 'SC', 'ES', 'AM', 'ES', 'AC', 'MA', 'RJ', nan, 'PI', 'SP', 'SP', 'SE', 'DF', 'RR', 'SP', 'RJ', 'GO', 'PA', 'MG', 'ES', 'MS', 'SE', 'MT', 'GO', 'MT', 'RJ', 'RO', 'ES', 'TO', nan, 'PR', 'PA', 'PI', 'RO', 'RS', 'SC', 'RR', 'DF', 'ES', 'RJ', 'MS', 'AL', 'MS', 'MG', 'RN', 'PA', 'RN', 'AC', 'RJ', 'SE', 'PR', 'PE', 'SE', 'AM', 'MA', 'CE', 'PI', 'BA', 'RN', 'BA', 'AM', 'AM', 'BA', 'MS', 'MA', 'PB', 'PR', 'MT', 'RO', 'SC', 'RR', 'PE', 'RJ', 'PB', 'PE', 'RO', 'PE', 'AP', 'MA', 'AL', 'MS', 'BA', 'SC'], 'Salário': [84253, 76862, 31742, 87573, 93671, nan, 72109, nan, 61170, 119462, 34627, 84808, 56163, 88201, 54815, 50547, 117621, 37525, 86540, 69281, 86646, 88436, 71283, 40733, 95087, 91431, 60463, 68528, 99044, 54509, 96843, 96586, 88727, 52788, 80038, 72436, 85604, 92209, 108478, 50035, 94198, 88057, 41096, 95161, 54926, 113151, 69980, 101962, 65579, 115976, 109302, nan, 90033, 83299, 34594, 39768, 71516, 83451, 117434, 44623, 90923, 102523, 114023, 73232, 56284, nan, 52593, 103434, 111930, 74505, 115087, 46295, 104276, 66568, 110961, 55880, 49865, 52896, 102483, 43188, 107791, 77717, 67655, 88286, 111719, 68982, 35302, 61073, 113177, 37485, 95208, 37174, 110017, nan, 111255, nan, 76739, 64141, 46196, 72934, 111878, 30844, 75064, 81874, 77194, 78831, 69838, 82668, 106641, nan, 80075, 56234, 38669, 31503, 33047, 66703, 90903, 55397, 61043, 50375, 93187, 106636, 119234, 117536, 104884, 93635, 93914, nan, 114598, nan, 68618, 63571, 39720, 31669, 71015, 83657, 98942, 42017, 57874, 73595, 94496, 39464, 42788, 47733, 34328, 56431, 108554, 48021, 40299, 30313, 112807, 119724, 99688, 106491, nan, 35073, 103508, 87797, 113843, 32391, 95882, 46926, 98544, 72854, nan, 30558, 36083, 111411, 82604, 70831, 113533, 33983, 100356, nan, 45556, 107279, 66732, nan, 43494, 30545, 88671, 34067, 69635, 43887, 90735, 103739, 95795, 79278, 52482, 111065, 40391, 96743, 95637, 95954, 113533, 80707, 87592, 100357, 97388, 70734, 113718, 51084, 50082, 47512, 116858, 44481, 112372, 62747, 119614, 47148, 30337, 105772, 44298, 56990, 95193, 36012, 95015, 109267, nan, 42797, 66366, 102822, 66360, 78586, 92563, 98908, 89159, 111767, 33307, 112348, 90312, 70821, 62752, 98342, 87250, 106530, 105930, 70749, 48863, 60010, 30891, 33220, 30064, 114474, 69694, 72195, 44273, 67712, 86474, 108816, 74822, 59323, 68059, 115035, 103166, 85961, 44809, 71317, 31629, 57292, 41332, 118867, 117217, 41401, nan, 43228, 84427, 93179, 45165, 85462, 91503, 75442, 62796, 74755, 89523, 38923, 78727, 86972, 112407, 97602, 62484, 96720, 100399, 116273, 105264, 36207, 57444, 88010, 31455, 68528, 86264, 37394, 97777, 37296, 75444, 34884, 44534, 115584, 66729, 32684, 93088, 76500, 52149, 103499, 53928, 113994, 45168, 75118, 40525, 87283, 78187, 115645, 84420, 115414, 67804, nan, 110426, 55002, 50412, 80544, 69787, 39013, 96180, 83818, 75989, 80863, 67547, 84787, 70516, 73103, 69237, 61718, 41368, 59542, 118772, 53145, 51793, 73319, 104408, 79867, 55090, nan, 105732, 117755, 112102, 66981, 47547, nan, 106770, 61756, 86892, 71791, 36713, 75778, 58593, 72590, 46177, nan, 46563, 90899, 117675, 75125, 106271, 75126, 75068, 47142, 48510, 68751, 88165, 96220, 46497, 75288, 110607, 34816, 37672, 99705, 114420, 74945, 46377, 114349, 90410, 59589, 103941, 36168, 85287, 37363, 49560, 95484, 45459, nan, 98370, 54579, 37735, 113037, 91278, 73791, 88039, 50073, 72999, 106075]}\n"
     ]
    }
   ],
   "source": [
    "print(dados)"
   ]
  },
  {
   "cell_type": "code",
   "execution_count": null,
   "metadata": {
    "cell_id": "49c312e3f7504504857e8e7e9c2e9648",
    "deepnote_cell_type": "code",
    "deepnote_to_be_reexecuted": false,
    "execution_millis": 15,
    "execution_start": 1702332371010,
    "source_hash": null
   },
   "outputs": [],
   "source": [
    "#Criando um DataFrame com o dicionário de Faker\n",
    "df = pd.DataFrame(dados)"
   ]
  },
  {
   "cell_type": "code",
   "execution_count": null,
   "metadata": {
    "cell_id": "71192048fb1746b0bf7eb20d7bf874fb",
    "deepnote_cell_type": "code",
    "deepnote_to_be_reexecuted": false,
    "execution_millis": 54,
    "execution_start": 1702332371011,
    "source_hash": null
   },
   "outputs": [
    {
     "data": {
      "application/vnd.deepnote.dataframe.v3+json": {
       "column_count": 10,
       "columns": [
        {
         "dtype": "object",
         "name": "Nome",
         "stats": {
          "categories": [
           {
            "count": 1,
            "name": "Gustavo Henrique Rezende"
           },
           {
            "count": 1,
            "name": "Melissa Silveira"
           },
           {
            "count": 3,
            "name": "3 others"
           }
          ],
          "nan_count": 0,
          "unique_count": 5
         }
        },
        {
         "dtype": "float64",
         "name": "Idade",
         "stats": {
          "histogram": [
           {
            "bin_end": 30.1,
            "bin_start": 26,
            "count": 1
           },
           {
            "bin_end": 34.2,
            "bin_start": 30.1,
            "count": 0
           },
           {
            "bin_end": 38.3,
            "bin_start": 34.2,
            "count": 0
           },
           {
            "bin_end": 42.4,
            "bin_start": 38.3,
            "count": 0
           },
           {
            "bin_end": 46.5,
            "bin_start": 42.4,
            "count": 0
           },
           {
            "bin_end": 50.599999999999994,
            "bin_start": 46.5,
            "count": 0
           },
           {
            "bin_end": 54.699999999999996,
            "bin_start": 50.599999999999994,
            "count": 0
           },
           {
            "bin_end": 58.8,
            "bin_start": 54.699999999999996,
            "count": 1
           },
           {
            "bin_end": 62.9,
            "bin_start": 58.8,
            "count": 1
           },
           {
            "bin_end": 67,
            "bin_start": 62.9,
            "count": 1
           }
          ],
          "max": "67.0",
          "min": "26.0",
          "nan_count": 1,
          "unique_count": 4
         }
        },
        {
         "dtype": "object",
         "name": "Email",
         "stats": {
          "categories": [
           {
            "count": 1,
            "name": "umartins@example.net"
           },
           {
            "count": 1,
            "name": "jesusmaria-alice@example.net"
           },
           {
            "count": 3,
            "name": "3 others"
           }
          ],
          "nan_count": 0,
          "unique_count": 5
         }
        },
        {
         "dtype": "object",
         "name": "Endereço",
         "stats": {
          "categories": [
           {
            "count": 1,
            "name": "Pátio de Teixeira, 3\nSão Damião\n41661967 Nunes / MT"
           },
           {
            "count": 1,
            "name": "Lagoa Moreira, 6\nJardim Do Vale\n10525-565 Santos da Mata / SE"
           },
           {
            "count": 3,
            "name": "3 others"
           }
          ],
          "nan_count": 0,
          "unique_count": 5
         }
        },
        {
         "dtype": "object",
         "name": "Telefone",
         "stats": {
          "categories": [
           {
            "count": 1,
            "name": "+55 (031) 8481-1851"
           },
           {
            "count": 1,
            "name": "+55 41 3960-6540"
           },
           {
            "count": 3,
            "name": "3 others"
           }
          ],
          "nan_count": 0,
          "unique_count": 5
         }
        },
        {
         "dtype": "object",
         "name": "Profissão",
         "stats": {
          "categories": [
           {
            "count": 1,
            "name": "Engenheiro industrial"
           },
           {
            "count": 1,
            "name": "Agente de combate à endemias"
           },
           {
            "count": 3,
            "name": "3 others"
           }
          ],
          "nan_count": 0,
          "unique_count": 5
         }
        },
        {
         "dtype": "object",
         "name": "Data de Nascimento",
         "stats": {
          "categories": [
           {
            "count": 1,
            "name": "1965-12-05"
           },
           {
            "count": 1,
            "name": "1920-04-10"
           },
           {
            "count": 3,
            "name": "3 others"
           }
          ],
          "nan_count": 0,
          "unique_count": 5
         }
        },
        {
         "dtype": "object",
         "name": "Cidade",
         "stats": {
          "categories": [
           {
            "count": 1,
            "name": "Melo"
           },
           {
            "count": 1,
            "name": "Mendes"
           },
           {
            "count": 3,
            "name": "3 others"
           }
          ],
          "nan_count": 0,
          "unique_count": 5
         }
        },
        {
         "dtype": "object",
         "name": "Estado",
         "stats": {
          "categories": [
           {
            "count": 1,
            "name": "SP"
           },
           {
            "count": 1,
            "name": "RN"
           },
           {
            "count": 3,
            "name": "3 others"
           }
          ],
          "nan_count": 0,
          "unique_count": 5
         }
        },
        {
         "dtype": "float64",
         "name": "Salário",
         "stats": {
          "histogram": [
           {
            "bin_end": 37934.9,
            "bin_start": 31742,
            "count": 1
           },
           {
            "bin_end": 44127.8,
            "bin_start": 37934.9,
            "count": 0
           },
           {
            "bin_end": 50320.7,
            "bin_start": 44127.8,
            "count": 0
           },
           {
            "bin_end": 56513.6,
            "bin_start": 50320.7,
            "count": 0
           },
           {
            "bin_end": 62706.5,
            "bin_start": 56513.6,
            "count": 0
           },
           {
            "bin_end": 68899.4,
            "bin_start": 62706.5,
            "count": 0
           },
           {
            "bin_end": 75092.29999999999,
            "bin_start": 68899.4,
            "count": 0
           },
           {
            "bin_end": 81285.2,
            "bin_start": 75092.29999999999,
            "count": 1
           },
           {
            "bin_end": 87478.1,
            "bin_start": 81285.2,
            "count": 1
           },
           {
            "bin_end": 93671,
            "bin_start": 87478.1,
            "count": 2
           }
          ],
          "max": "93671.0",
          "min": "31742.0",
          "nan_count": 0,
          "unique_count": 5
         }
        },
        {
         "dtype": "int64",
         "name": "_deepnote_index_column"
        }
       ],
       "row_count": 5,
       "rows": [
        {
         "Cidade": "Melo",
         "Data de Nascimento": "1965-12-05",
         "Email": "umartins@example.net",
         "Endereço": "Pátio de Teixeira, 3\nSão Damião\n41661967 Nunes / MT",
         "Estado": "SP",
         "Idade": 67,
         "Nome": "Gustavo Henrique Rezende",
         "Profissão": "Engenheiro industrial",
         "Salário": 84253,
         "Telefone": "+55 (031) 8481-1851",
         "_deepnote_index_column": 0
        },
        {
         "Cidade": "Mendes",
         "Data de Nascimento": "1920-04-10",
         "Email": "jesusmaria-alice@example.net",
         "Endereço": "Lagoa Moreira, 6\nJardim Do Vale\n10525-565 Santos da Mata / SE",
         "Estado": "RN",
         "Idade": "nan",
         "Nome": "Melissa Silveira",
         "Profissão": "Agente de combate à endemias",
         "Salário": 76862,
         "Telefone": "+55 41 3960-6540",
         "_deepnote_index_column": 1
        },
        {
         "Cidade": "Porto do Galho",
         "Data de Nascimento": "1920-09-22",
         "Email": "maysa66@example.com",
         "Endereço": "Feira de da Costa, 88\nCalafate\n37260-662 Teixeira / PB",
         "Estado": "SE",
         "Idade": 58,
         "Nome": "Vitor Rodrigues",
         "Profissão": "Apresentador",
         "Salário": 31742,
         "Telefone": "(084) 0335-2029",
         "_deepnote_index_column": 2
        },
        {
         "Cidade": "Ramos de Peixoto",
         "Data de Nascimento": "1920-01-14",
         "Email": "cnovaes@example.org",
         "Endereço": "Setor Carolina Rocha\nFrei Leopoldo\n17036-324 Dias / DF",
         "Estado": "PI",
         "Idade": 26,
         "Nome": "Amanda Moreira",
         "Profissão": "Vendedor",
         "Salário": 87573,
         "Telefone": "+55 (061) 9596 8176",
         "_deepnote_index_column": 3
        },
        {
         "Cidade": "Monteiro do Amparo",
         "Data de Nascimento": "2012-11-17",
         "Email": "luiz-miguelda-mota@example.org",
         "Endereço": "Parque Vitor Gabriel da Conceição, 279\nNossa Senhora Do Rosário\n51331048 Correia / MG",
         "Estado": "AM",
         "Idade": 59,
         "Nome": "Sr. Enrico Dias",
         "Profissão": "Terapeuta Holístico",
         "Salário": 93671,
         "Telefone": "(051) 7570-3946",
         "_deepnote_index_column": 4
        }
       ]
      },
      "text/html": [
       "<div>\n",
       "<style scoped>\n",
       "    .dataframe tbody tr th:only-of-type {\n",
       "        vertical-align: middle;\n",
       "    }\n",
       "\n",
       "    .dataframe tbody tr th {\n",
       "        vertical-align: top;\n",
       "    }\n",
       "\n",
       "    .dataframe thead th {\n",
       "        text-align: right;\n",
       "    }\n",
       "</style>\n",
       "<table border=\"1\" class=\"dataframe\">\n",
       "  <thead>\n",
       "    <tr style=\"text-align: right;\">\n",
       "      <th></th>\n",
       "      <th>Nome</th>\n",
       "      <th>Idade</th>\n",
       "      <th>Email</th>\n",
       "      <th>Endereço</th>\n",
       "      <th>Telefone</th>\n",
       "      <th>Profissão</th>\n",
       "      <th>Data de Nascimento</th>\n",
       "      <th>Cidade</th>\n",
       "      <th>Estado</th>\n",
       "      <th>Salário</th>\n",
       "    </tr>\n",
       "  </thead>\n",
       "  <tbody>\n",
       "    <tr>\n",
       "      <th>0</th>\n",
       "      <td>Gustavo Henrique Rezende</td>\n",
       "      <td>67.0</td>\n",
       "      <td>umartins@example.net</td>\n",
       "      <td>Pátio de Teixeira, 3\\nSão Damião\\n41661967 Nun...</td>\n",
       "      <td>+55 (031) 8481-1851</td>\n",
       "      <td>Engenheiro industrial</td>\n",
       "      <td>1965-12-05</td>\n",
       "      <td>Melo</td>\n",
       "      <td>SP</td>\n",
       "      <td>84253.0</td>\n",
       "    </tr>\n",
       "    <tr>\n",
       "      <th>1</th>\n",
       "      <td>Melissa Silveira</td>\n",
       "      <td>NaN</td>\n",
       "      <td>jesusmaria-alice@example.net</td>\n",
       "      <td>Lagoa Moreira, 6\\nJardim Do Vale\\n10525-565 Sa...</td>\n",
       "      <td>+55 41 3960-6540</td>\n",
       "      <td>Agente de combate à endemias</td>\n",
       "      <td>1920-04-10</td>\n",
       "      <td>Mendes</td>\n",
       "      <td>RN</td>\n",
       "      <td>76862.0</td>\n",
       "    </tr>\n",
       "    <tr>\n",
       "      <th>2</th>\n",
       "      <td>Vitor Rodrigues</td>\n",
       "      <td>58.0</td>\n",
       "      <td>maysa66@example.com</td>\n",
       "      <td>Feira de da Costa, 88\\nCalafate\\n37260-662 Tei...</td>\n",
       "      <td>(084) 0335-2029</td>\n",
       "      <td>Apresentador</td>\n",
       "      <td>1920-09-22</td>\n",
       "      <td>Porto do Galho</td>\n",
       "      <td>SE</td>\n",
       "      <td>31742.0</td>\n",
       "    </tr>\n",
       "    <tr>\n",
       "      <th>3</th>\n",
       "      <td>Amanda Moreira</td>\n",
       "      <td>26.0</td>\n",
       "      <td>cnovaes@example.org</td>\n",
       "      <td>Setor Carolina Rocha\\nFrei Leopoldo\\n17036-324...</td>\n",
       "      <td>+55 (061) 9596 8176</td>\n",
       "      <td>Vendedor</td>\n",
       "      <td>1920-01-14</td>\n",
       "      <td>Ramos de Peixoto</td>\n",
       "      <td>PI</td>\n",
       "      <td>87573.0</td>\n",
       "    </tr>\n",
       "    <tr>\n",
       "      <th>4</th>\n",
       "      <td>Sr. Enrico Dias</td>\n",
       "      <td>59.0</td>\n",
       "      <td>luiz-miguelda-mota@example.org</td>\n",
       "      <td>Parque Vitor Gabriel da Conceição, 279\\nNossa ...</td>\n",
       "      <td>(051) 7570-3946</td>\n",
       "      <td>Terapeuta Holístico</td>\n",
       "      <td>2012-11-17</td>\n",
       "      <td>Monteiro do Amparo</td>\n",
       "      <td>AM</td>\n",
       "      <td>93671.0</td>\n",
       "    </tr>\n",
       "  </tbody>\n",
       "</table>\n",
       "</div>"
      ],
      "text/plain": [
       "                       Nome  Idade                           Email  \\\n",
       "0  Gustavo Henrique Rezende   67.0            umartins@example.net   \n",
       "1          Melissa Silveira    NaN    jesusmaria-alice@example.net   \n",
       "2           Vitor Rodrigues   58.0             maysa66@example.com   \n",
       "3            Amanda Moreira   26.0             cnovaes@example.org   \n",
       "4           Sr. Enrico Dias   59.0  luiz-miguelda-mota@example.org   \n",
       "\n",
       "                                            Endereço             Telefone  \\\n",
       "0  Pátio de Teixeira, 3\\nSão Damião\\n41661967 Nun...  +55 (031) 8481-1851   \n",
       "1  Lagoa Moreira, 6\\nJardim Do Vale\\n10525-565 Sa...     +55 41 3960-6540   \n",
       "2  Feira de da Costa, 88\\nCalafate\\n37260-662 Tei...      (084) 0335-2029   \n",
       "3  Setor Carolina Rocha\\nFrei Leopoldo\\n17036-324...  +55 (061) 9596 8176   \n",
       "4  Parque Vitor Gabriel da Conceição, 279\\nNossa ...      (051) 7570-3946   \n",
       "\n",
       "                      Profissão Data de Nascimento              Cidade Estado  \\\n",
       "0         Engenheiro industrial         1965-12-05                Melo     SP   \n",
       "1  Agente de combate à endemias         1920-04-10              Mendes     RN   \n",
       "2                  Apresentador         1920-09-22      Porto do Galho     SE   \n",
       "3                      Vendedor         1920-01-14    Ramos de Peixoto     PI   \n",
       "4           Terapeuta Holístico         2012-11-17  Monteiro do Amparo     AM   \n",
       "\n",
       "   Salário  \n",
       "0  84253.0  \n",
       "1  76862.0  \n",
       "2  31742.0  \n",
       "3  87573.0  \n",
       "4  93671.0  "
      ]
     },
     "execution_count": 19,
     "metadata": {},
     "output_type": "execute_result"
    }
   ],
   "source": [
    "df.head()"
   ]
  },
  {
   "cell_type": "markdown",
   "metadata": {
    "cell_id": "df7ba5569ffa48399aa9b7de044c20cb",
    "deepnote_cell_type": "text-cell-p",
    "formattedRanges": [
     {
      "fromCodePoint": 0,
      "marks": {
       "bold": true
      },
      "toCodePoint": 192,
      "type": "marks"
     }
    ]
   },
   "source": [
    "**Usaremos o Pandera para realizar testes e validações para cada uma das 10 colunas na base de dados criada neste trabalho. Faremos isso usando o método lazy e retornaremos uma mensagem indicando que não passar no teste é uma resposta.**"
   ]
  },
  {
   "cell_type": "code",
   "execution_count": null,
   "metadata": {
    "cell_id": "94ea9535839d4edf960beb34a7969699",
    "deepnote_cell_type": "code",
    "deepnote_to_be_reexecuted": false,
    "execution_millis": 3969,
    "execution_start": 1702332371072,
    "source_hash": null
   },
   "outputs": [
    {
     "name": "stdout",
     "output_type": "stream",
     "text": [
      "Collecting pandera\n",
      "  Downloading pandera-0.18.0-py3-none-any.whl (209 kB)\n",
      "\u001b[2K     \u001b[90m━━━━━━━━━━━━━━━━━━━━━━━━━━━━━━━━━━━━━━\u001b[0m \u001b[32m209.0/209.0 kB\u001b[0m \u001b[31m15.1 MB/s\u001b[0m eta \u001b[36m0:00:00\u001b[0m\n",
      "\u001b[?25hRequirement already satisfied: pandas>=1.2.0 in /shared-libs/python3.9/py/lib/python3.9/site-packages (from pandera) (1.2.5)\n",
      "Requirement already satisfied: packaging>=20.0 in /shared-libs/python3.9/py-core/lib/python3.9/site-packages (from pandera) (21.3)\n",
      "Collecting typeguard>=3.0.2\n",
      "  Downloading typeguard-4.1.5-py3-none-any.whl (34 kB)\n",
      "Collecting multimethod\n",
      "  Downloading multimethod-1.10-py3-none-any.whl (9.9 kB)\n",
      "Requirement already satisfied: wrapt in /shared-libs/python3.9/py/lib/python3.9/site-packages (from pandera) (1.14.1)\n",
      "Collecting typing-inspect>=0.6.0\n",
      "  Downloading typing_inspect-0.9.0-py3-none-any.whl (8.8 kB)\n",
      "Requirement already satisfied: numpy>=1.19.0 in /shared-libs/python3.9/py/lib/python3.9/site-packages (from pandera) (1.23.4)\n",
      "Requirement already satisfied: pydantic in /shared-libs/python3.9/py/lib/python3.9/site-packages (from pandera) (1.10.2)\n",
      "Requirement already satisfied: pyparsing!=3.0.5,>=2.0.2 in /shared-libs/python3.9/py-core/lib/python3.9/site-packages (from packaging>=20.0->pandera) (3.0.9)\n",
      "Requirement already satisfied: python-dateutil>=2.7.3 in /shared-libs/python3.9/py-core/lib/python3.9/site-packages (from pandas>=1.2.0->pandera) (2.8.2)\n",
      "Requirement already satisfied: pytz>=2017.3 in /shared-libs/python3.9/py/lib/python3.9/site-packages (from pandas>=1.2.0->pandera) (2022.5)\n",
      "Requirement already satisfied: importlib-metadata>=3.6 in /shared-libs/python3.9/py/lib/python3.9/site-packages (from typeguard>=3.0.2->pandera) (5.0.0)\n",
      "Collecting typing-extensions>=4.7.0\n",
      "  Downloading typing_extensions-4.9.0-py3-none-any.whl (32 kB)\n",
      "Collecting mypy-extensions>=0.3.0\n",
      "  Downloading mypy_extensions-1.0.0-py3-none-any.whl (4.7 kB)\n",
      "Requirement already satisfied: zipp>=0.5 in /shared-libs/python3.9/py/lib/python3.9/site-packages (from importlib-metadata>=3.6->typeguard>=3.0.2->pandera) (3.9.0)\n",
      "Requirement already satisfied: six>=1.5 in /shared-libs/python3.9/py-core/lib/python3.9/site-packages (from python-dateutil>=2.7.3->pandas>=1.2.0->pandera) (1.16.0)\n",
      "Installing collected packages: typing-extensions, mypy-extensions, multimethod, typing-inspect, typeguard, pandera\n",
      "  Attempting uninstall: typing-extensions\n",
      "    Found existing installation: typing_extensions 4.4.0\n",
      "    Not uninstalling typing-extensions at /shared-libs/python3.9/py/lib/python3.9/site-packages, outside environment /root/venv\n",
      "    Can't uninstall 'typing_extensions'. No files were found to uninstall.\n",
      "Successfully installed multimethod-1.10 mypy-extensions-1.0.0 pandera-0.18.0 typeguard-4.1.5 typing-extensions-4.9.0 typing-inspect-0.9.0\n",
      "\n",
      "\u001b[1m[\u001b[0m\u001b[34;49mnotice\u001b[0m\u001b[1;39;49m]\u001b[0m\u001b[39;49m A new release of pip is available: \u001b[0m\u001b[31;49m23.0.1\u001b[0m\u001b[39;49m -> \u001b[0m\u001b[32;49m23.3.1\u001b[0m\n",
      "\u001b[1m[\u001b[0m\u001b[34;49mnotice\u001b[0m\u001b[1;39;49m]\u001b[0m\u001b[39;49m To update, run: \u001b[0m\u001b[32;49mpip install --upgrade pip\u001b[0m\n"
     ]
    }
   ],
   "source": [
    "!pip install pandera"
   ]
  },
  {
   "cell_type": "code",
   "execution_count": null,
   "metadata": {
    "cell_id": "91ed049f80ab4e789aa33292f5f7e883",
    "deepnote_cell_type": "code",
    "deepnote_to_be_reexecuted": false,
    "execution_millis": 664,
    "execution_start": 1702332375043,
    "source_hash": null
   },
   "outputs": [],
   "source": [
    "import pandera as pa\n",
    "from pandera import Column, DataFrameSchema"
   ]
  },
  {
   "cell_type": "code",
   "execution_count": null,
   "metadata": {
    "cell_id": "8197d247c5e7467882d01f5e73b142a1",
    "deepnote_cell_type": "code",
    "deepnote_to_be_reexecuted": false,
    "execution_millis": 25,
    "execution_start": 1702332375708,
    "source_hash": null
   },
   "outputs": [],
   "source": [
    "schema = DataFrameSchema({\n",
    "    \"Nome\": Column(str),\n",
    "    \"Idade\": Column(float, nullable=True),  \n",
    "    \"Email\": Column(str),\n",
    "    \"Endereço\": Column(str),\n",
    "    \"Telefone\": Column(str),\n",
    "    \"Profissão\": Column(str),\n",
    "    \"Data de Nascimento\": Column(str),\n",
    "    \"Cidade\": Column(str),\n",
    "    \"Estado\": Column(str, nullable=True),  \n",
    "    \"Salário\": Column(float, nullable=True)  \n",
    "})\n"
   ]
  },
  {
   "cell_type": "code",
   "execution_count": null,
   "metadata": {
    "cell_id": "2dca53d09327441ebe4d39744dcee439",
    "deepnote_cell_type": "code",
    "deepnote_to_be_reexecuted": false,
    "execution_millis": 152,
    "execution_start": 1702332375724,
    "source_hash": null
   },
   "outputs": [
    {
     "name": "stdout",
     "output_type": "stream",
     "text": [
      "    schema_context              column         check check_number  \\\n",
      "0           Column  Data de Nascimento  dtype('str')         None   \n",
      "263         Column  Data de Nascimento  dtype('str')         None   \n",
      "273         Column  Data de Nascimento  dtype('str')         None   \n",
      "272         Column  Data de Nascimento  dtype('str')         None   \n",
      "271         Column  Data de Nascimento  dtype('str')         None   \n",
      "..             ...                 ...           ...          ...   \n",
      "130         Column  Data de Nascimento  dtype('str')         None   \n",
      "129         Column  Data de Nascimento  dtype('str')         None   \n",
      "128         Column  Data de Nascimento  dtype('str')         None   \n",
      "127         Column  Data de Nascimento  dtype('str')         None   \n",
      "399         Column  Data de Nascimento  dtype('str')         None   \n",
      "\n",
      "    failure_case  index  \n",
      "0     1965-12-05      0  \n",
      "263   2015-05-04    263  \n",
      "273   1994-11-16    273  \n",
      "272   1956-11-08    272  \n",
      "271   1914-09-14    271  \n",
      "..           ...    ...  \n",
      "130   1958-08-25    130  \n",
      "129   2019-10-25    129  \n",
      "128   1931-03-01    128  \n",
      "127   2014-09-19    127  \n",
      "399   1919-07-23    399  \n",
      "\n",
      "[400 rows x 6 columns]\n"
     ]
    }
   ],
   "source": [
    "try:\n",
    "    validated_df = schema.validate(df, lazy=True)\n",
    "except pa.errors.SchemaErrors as e:\n",
    "    print(e.failure_cases)  \n"
   ]
  },
  {
   "cell_type": "code",
   "execution_count": null,
   "metadata": {
    "cell_id": "dea41bd9d8e64d12b294d96dd1b4c8b5",
    "deepnote_cell_type": "code",
    "deepnote_to_be_reexecuted": false,
    "execution_millis": 41,
    "execution_start": 1702332375854,
    "source_hash": null
   },
   "outputs": [
    {
     "name": "stdout",
     "output_type": "stream",
     "text": [
      "object\n"
     ]
    }
   ],
   "source": [
    "#Verificando o tipo de dado da coluna Data de Nascimento\n",
    "print(df['Data de Nascimento'].dtypes)\n"
   ]
  },
  {
   "cell_type": "code",
   "execution_count": null,
   "metadata": {
    "cell_id": "dcdcfe8ad3d04db8b40208f6556cb73c",
    "deepnote_cell_type": "code",
    "deepnote_to_be_reexecuted": false,
    "execution_millis": 29,
    "execution_start": 1702332375868,
    "source_hash": null
   },
   "outputs": [
    {
     "name": "stdout",
     "output_type": "stream",
     "text": [
      "0    1965-12-05\n",
      "1    1920-04-10\n",
      "2    1920-09-22\n",
      "3    1920-01-14\n",
      "4    2012-11-17\n",
      "Name: Data de Nascimento, dtype: object\n"
     ]
    }
   ],
   "source": [
    "#verificando a formatação em Data de Nascimento (obs: os 5 primeiros registros indicam uma formatação correta)\n",
    "print(df['Data de Nascimento'].head())\n"
   ]
  },
  {
   "cell_type": "markdown",
   "metadata": {
    "cell_id": "59c7a66d047041b3b38be1e90ed6f683",
    "deepnote_cell_type": "text-cell-p",
    "formattedRanges": [
     {
      "fromCodePoint": 0,
      "marks": {
       "bold": true
      },
      "toCodePoint": 83,
      "type": "marks"
     }
    ]
   },
   "source": [
    "**Obs:** Essa a coluna 'Data de Nascimento' apresenta anomalias que devem ser tratadas."
   ]
  },
  {
   "cell_type": "markdown",
   "metadata": {
    "cell_id": "572244e23de64697b2c46f7ea75a687c",
    "deepnote_cell_type": "text-cell-p",
    "formattedRanges": [
     {
      "fromCodePoint": 0,
      "marks": {
       "bold": true
      },
      "toCodePoint": 72,
      "type": "marks"
     }
    ]
   },
   "source": [
    "**Vamos completar os dados nulos na base de dados usando a regra que melhor se aplica a cada caso.**"
   ]
  },
  {
   "cell_type": "code",
   "execution_count": null,
   "metadata": {
    "cell_id": "cb0d012f0d604dce9195a09695462447",
    "deepnote_cell_type": "code",
    "deepnote_to_be_reexecuted": false,
    "execution_millis": 14,
    "execution_start": 1702332375886,
    "source_hash": null
   },
   "outputs": [
    {
     "name": "stdout",
     "output_type": "stream",
     "text": [
      "Valores nulos em cada coluna:\n",
      " Nome                   0\n",
      "Idade                 24\n",
      "Email                  0\n",
      "Endereço               0\n",
      "Telefone               0\n",
      "Profissão              0\n",
      "Data de Nascimento     0\n",
      "Cidade                 0\n",
      "Estado                10\n",
      "Salário               20\n",
      "dtype: int64\n"
     ]
    }
   ],
   "source": [
    "missing_values = df.isnull().sum()\n",
    "print(\"Valores nulos em cada coluna:\\n\", missing_values)\n"
   ]
  },
  {
   "cell_type": "markdown",
   "metadata": {
    "cell_id": "1768fe5486ce4be792e01f27d57737de",
    "deepnote_cell_type": "text-cell-p",
    "formattedRanges": [
     {
      "fromCodePoint": 88,
      "marks": {
       "bold": true
      },
      "toCodePoint": 95,
      "type": "marks"
     },
     {
      "fromCodePoint": 174,
      "marks": {
       "bold": true
      },
      "toCodePoint": 179,
      "type": "marks"
     }
    ]
   },
   "source": [
    "**Obs:** Para a correção dos dados nulos, vamos utilizar a mesma proposta do exercício anterior: mediana para idade e salário (por possuírem grande variação - outliers - de dados) e a moda para Estado - utilizando como base a entrada mais comum"
   ]
  },
  {
   "cell_type": "code",
   "execution_count": null,
   "metadata": {
    "cell_id": "cdc64fb2f79b452789c62cbd9febc653",
    "deepnote_cell_type": "code",
    "deepnote_to_be_reexecuted": false,
    "execution_millis": 20,
    "execution_start": 1702332375894,
    "source_hash": null
   },
   "outputs": [],
   "source": [
    "df['Idade'].fillna(df['Idade'].median(), inplace=True)\n",
    "df['Estado'].fillna(df['Estado'].mode()[0], inplace=True)\n",
    "df['Salário'].fillna(df['Salário'].median(), inplace=True)\n"
   ]
  },
  {
   "cell_type": "code",
   "execution_count": null,
   "metadata": {
    "cell_id": "db05f7b6d55c485d899b98fe0b5fc5be",
    "deepnote_cell_type": "code",
    "deepnote_to_be_reexecuted": false,
    "execution_millis": 14,
    "execution_start": 1702332375908,
    "source_hash": null
   },
   "outputs": [
    {
     "name": "stdout",
     "output_type": "stream",
     "text": [
      "Valores nulos em cada coluna:\n",
      " Nome                  0\n",
      "Idade                 0\n",
      "Email                 0\n",
      "Endereço              0\n",
      "Telefone              0\n",
      "Profissão             0\n",
      "Data de Nascimento    0\n",
      "Cidade                0\n",
      "Estado                0\n",
      "Salário               0\n",
      "dtype: int64\n"
     ]
    }
   ],
   "source": [
    "#verificando novamente os valores nulos\n",
    "missing_values = df.isnull().sum()\n",
    "print(\"Valores nulos em cada coluna:\\n\", missing_values)"
   ]
  },
  {
   "cell_type": "markdown",
   "metadata": {
    "cell_id": "c80e6d50c9984e0e94ccc4c83e0e74a2",
    "deepnote_cell_type": "text-cell-p",
    "formattedRanges": []
   },
   "source": [
    "**Utilizando o Pandera**: Este código utiliza o Pandera para definir um esquema de validação para um DataFrame, onde a coluna \"Idade\" deve ser do tipo float e a média das idades deve estar entre 30 e 40 anos. Se o DataFrame não passar na validação de acordo com esse esquema, uma mensagem será impressa indicando que a média da idade não está dentro do intervalo esperado, juntamente com os casos de falha."
   ]
  },
  {
   "cell_type": "code",
   "execution_count": null,
   "metadata": {
    "cell_id": "476829a69ed64bcaa780b6abee602583",
    "deepnote_cell_type": "code",
    "deepnote_to_be_reexecuted": false,
    "execution_millis": 24,
    "execution_start": 1702332375918,
    "source_hash": null
   },
   "outputs": [
    {
     "name": "stdout",
     "output_type": "stream",
     "text": [
      "A média da idade não está entre 30 e 40 anos.\n",
      "  index  failure_case\n",
      "0  None         False\n"
     ]
    }
   ],
   "source": [
    "from pandera import DataFrameSchema, Column, Check\n",
    "\n",
    "schema = DataFrameSchema({\n",
    "    \"Idade\": Column(\n",
    "        float,\n",
    "        Check(lambda s: 30 <= s.mean() <= 40),\n",
    "        nullable=True \n",
    "    )\n",
    "})\n",
    "\n",
    "try:\n",
    "    validated_df = schema.validate(df)\n",
    "    print(\"A média da idade está entre 30 e 40 anos.\")\n",
    "except pa.errors.SchemaError as e:\n",
    "    print(\"A média da idade não está entre 30 e 40 anos.\")\n",
    "    print(e.failure_cases)\n",
    "\n"
   ]
  },
  {
   "cell_type": "markdown",
   "metadata": {
    "created_in_deepnote_cell": true,
    "deepnote_cell_type": "markdown"
   },
   "source": [
    "<a style='text-decoration:none;line-height:16px;display:flex;color:#5B5B62;padding:10px;justify-content:end;' href='https://deepnote.com?utm_source=created-in-deepnote-cell&projectId=7509455c-0157-4e67-84fd-05e033da073d' target=\"_blank\">\n",
    "<img alt='Created in deepnote.com' style='display:inline;max-height:16px;margin:0px;margin-right:7.5px;' src='data:image/svg+xml;base64,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' > </img>\n",
    "Created in <span style='font-weight:600;margin-left:4px;'>Deepnote</span></a>"
   ]
  }
 ],
 "metadata": {
  "deepnote_execution_queue": [],
  "deepnote_notebook_id": "8634b8bfe3d24931a3c846cfbd55a1ce",
  "deepnote_persisted_session": {
   "createdAt": "2023-12-11T22:30:37.266Z"
  },
  "kernelspec": {
   "display_name": "Python 3 (ipykernel)",
   "language": "python",
   "name": "python3"
  },
  "language_info": {
   "codemirror_mode": {
    "name": "ipython",
    "version": 3
   },
   "file_extension": ".py",
   "mimetype": "text/x-python",
   "name": "python",
   "nbconvert_exporter": "python",
   "pygments_lexer": "ipython3",
   "version": "3.10.9"
  }
 },
 "nbformat": 4,
 "nbformat_minor": 1
}
